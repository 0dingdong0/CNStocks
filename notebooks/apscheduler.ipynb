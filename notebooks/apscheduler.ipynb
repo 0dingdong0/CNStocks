{
 "cells": [
  {
   "cell_type": "code",
   "execution_count": 1,
   "metadata": {},
   "outputs": [],
   "source": [
    "from libs.tradingday import TradingDay\n",
    "\n",
    "from apscheduler.schedulers.background import BackgroundScheduler\n",
    "from apscheduler import events\n",
    "from datetime import datetime\n",
    "from datetime import timedelta\n"
   ]
  },
  {
   "cell_type": "code",
   "execution_count": null,
   "metadata": {},
   "outputs": [],
   "source": []
  },
  {
   "cell_type": "code",
   "execution_count": null,
   "metadata": {},
   "outputs": [],
   "source": []
  },
  {
   "cell_type": "code",
   "execution_count": 2,
   "metadata": {},
   "outputs": [],
   "source": [
    "def schedule_jobs():\n",
    "    if trading_day.is_today_trading_day:\n",
    "        now = datetime.now()\n",
    "        start_0 = now.replace(hour=9, minute=14, second=55, microsecond=0)\n",
    "        end_0 = now.replace(hour=9, minute=25, second=15, microsecond=0)\n",
    "        \n",
    "        start_1 = now.replace(hour=9, minute=29, second=55, microsecond=0)\n",
    "        end_1 = now.replace(hour=11, minute=30, second=15, microsecond=0)\n",
    "        \n",
    "        start_2 = now.replace(hour=12, minute=59, second=55, microsecond=0)\n",
    "        end_2 = now.replace(hour=15, minute=0, second=15, microsecond=0)\n",
    "        \n",
    "        job_ids = list([job.id for job in scheduler.get_jobs()])\n",
    "        \n",
    "        if now < end_0 and 'hq_beat_0' not in job_ids:\n",
    "            hq_beat_0 = scheduler.add_job(trading_day.beat, 'interval', id='hq_beat_0', seconds=5, start_date=start_0, end_date=end_0)\n",
    "        if now < end_1 and 'hq_beat_1' not in job_ids:\n",
    "            hq_beat_1 = scheduler.add_job(trading_day.beat, 'interval', id='hq_beat_1', seconds=5, start_date=start_1, end_date=end_1)\n",
    "        if now < end_2 and 'hq_beat_2' not in job_ids:\n",
    "            hq_beat_2 = scheduler.add_job(trading_day.beat, 'interval', id='hq_beat_2', seconds=5, start_date=start_2, end_date=end_2)\n",
    "        \n",
    "#         if now < end_0+timedelta(seconds=30) and 'hq_end_0' not in job_ids:\n",
    "#             hq_end_0 = scheduler.add_job(trading_day.save, 'date', id='hq_end_0', run_date=end_0+timedelta(seconds=30))\n",
    "#         if now < end_1+timedelta(seconds=30) and 'hq_end_1' not in job_ids:\n",
    "#             hq_end_1 = scheduler.add_job(trading_day.save, 'date', id='hq_end_1', run_date=end_1+timedelta(seconds=30))\n",
    "        if now < end_2+timedelta(seconds=30) and 'hq_end_2' not in job_ids:\n",
    "            hq_end_2 = scheduler.add_job(trading_day.save, 'date', id='hq_end_2', run_date=end_2+timedelta(seconds=30))\n",
    "    \n",
    "#     hq_beat_0 = scheduler.add_job(beat, 'interval', id='hq_beat_0', seconds=5, start_date=start_0, end_date=end_0)\n",
    "#     hq_end_0 = scheduler.add_job(save, 'date', id='hq_end_0', run_date=end_0+timedelta(seconds=30))"
   ]
  },
  {
   "cell_type": "code",
   "execution_count": 3,
   "metadata": {},
   "outputs": [],
   "source": [
    "def event_handler(event):\n",
    "    if event.code == events.EVENT_JOB_EXECUTED:\n",
    "        print('job executed:', event.job_id)\n",
    "        if event.job_id == 'hq_reset':\n",
    "            schedule_jobs()\n",
    "    elif event.code == events.VENT_JOB_ERROR:\n",
    "        print('The job['+event.jod_id+'] crashed :(')\n",
    "        print(event.exception )\n",
    "    elif event.code == events.EVENT_JOB_MISSED:\n",
    "        print('The job['+event.jod_id+'] missed :(')\n",
    "    else:\n",
    "        pass"
   ]
  },
  {
   "cell_type": "code",
   "execution_count": 6,
   "metadata": {},
   "outputs": [],
   "source": [
    "scheduler = BackgroundScheduler()\n",
    "scheduler.add_listener(event_handler, events.EVENT_JOB_EXECUTED | events.EVENT_JOB_ERROR | events.EVENT_JOB_MISSED)"
   ]
  },
  {
   "cell_type": "code",
   "execution_count": 7,
   "metadata": {},
   "outputs": [],
   "source": [
    "scheduler.start()"
   ]
  },
  {
   "cell_type": "code",
   "execution_count": 19,
   "metadata": {},
   "outputs": [],
   "source": [
    "scheduler.shutdown()"
   ]
  },
  {
   "cell_type": "code",
   "execution_count": null,
   "metadata": {},
   "outputs": [],
   "source": []
  },
  {
   "cell_type": "code",
   "execution_count": null,
   "metadata": {},
   "outputs": [],
   "source": []
  },
  {
   "cell_type": "code",
   "execution_count": null,
   "metadata": {},
   "outputs": [],
   "source": [
    "trading_day = TradingDay(tdx_root='C:\\\\tdx\\\\tdx_7.46', concurrency=8, sub_group_count=2)\n",
    "trading_day.reset()"
   ]
  },
  {
   "cell_type": "code",
   "execution_count": 12,
   "metadata": {},
   "outputs": [],
   "source": [
    "hq_reset = scheduler.add_job(trading_day.reset, 'cron', id='hq_reset', day_of_week='mon-fri', hour=9, minute=2)\n",
    "# hq_reset = scheduler.add_job(reset, 'cron', id='hq_reset', day_of_week='mon-sun', hour=21, minute=10)"
   ]
  },
  {
   "cell_type": "code",
   "execution_count": 13,
   "metadata": {},
   "outputs": [],
   "source": [
    "now = datetime.now()\n",
    "start_0 = now.replace(hour=21, minute=10, second=30)\n",
    "end_0 = now.replace(hour=21, minute=11, second=0)"
   ]
  },
  {
   "cell_type": "code",
   "execution_count": 15,
   "metadata": {},
   "outputs": [
    {
     "name": "stdout",
     "output_type": "stream",
     "text": [
      "reset_task\n"
     ]
    }
   ],
   "source": []
  },
  {
   "cell_type": "code",
   "execution_count": 20,
   "metadata": {},
   "outputs": [],
   "source": []
  },
  {
   "cell_type": "code",
   "execution_count": null,
   "metadata": {},
   "outputs": [],
   "source": []
  },
  {
   "cell_type": "code",
   "execution_count": null,
   "metadata": {},
   "outputs": [],
   "source": [
    "job.remove()\n",
    "scheduler.get_jobs()"
   ]
  },
  {
   "cell_type": "code",
   "execution_count": 17,
   "metadata": {},
   "outputs": [
    {
     "data": {
      "text/plain": [
       "[<Job (id=hq_reset name=reset)>]"
      ]
     },
     "execution_count": 17,
     "metadata": {},
     "output_type": "execute_result"
    }
   ],
   "source": [
    "scheduler.get_jobs()"
   ]
  },
  {
   "cell_type": "code",
   "execution_count": null,
   "metadata": {},
   "outputs": [],
   "source": []
  },
  {
   "cell_type": "code",
   "execution_count": null,
   "metadata": {},
   "outputs": [],
   "source": []
  },
  {
   "cell_type": "code",
   "execution_count": null,
   "metadata": {},
   "outputs": [],
   "source": []
  },
  {
   "cell_type": "code",
   "execution_count": null,
   "metadata": {},
   "outputs": [],
   "source": []
  },
  {
   "cell_type": "code",
   "execution_count": null,
   "metadata": {},
   "outputs": [],
   "source": []
  },
  {
   "cell_type": "code",
   "execution_count": null,
   "metadata": {},
   "outputs": [],
   "source": []
  },
  {
   "cell_type": "code",
   "execution_count": 11,
   "metadata": {},
   "outputs": [],
   "source": [
    "def reset():\n",
    "    print(datetime.now().strftime(), 'reset_task')\n",
    "    \n",
    "def save():\n",
    "    print('save_task')\n",
    "    \n",
    "def beat():\n",
    "    print('beat_task')"
   ]
  },
  {
   "cell_type": "code",
   "execution_count": null,
   "metadata": {},
   "outputs": [],
   "source": []
  },
  {
   "cell_type": "code",
   "execution_count": null,
   "metadata": {},
   "outputs": [],
   "source": []
  },
  {
   "cell_type": "code",
   "execution_count": null,
   "metadata": {},
   "outputs": [],
   "source": []
  }
 ],
 "metadata": {
  "kernelspec": {
   "display_name": "Python 3",
   "language": "python",
   "name": "python3"
  },
  "language_info": {
   "codemirror_mode": {
    "name": "ipython",
    "version": 3
   },
   "file_extension": ".py",
   "mimetype": "text/x-python",
   "name": "python",
   "nbconvert_exporter": "python",
   "pygments_lexer": "ipython3",
   "version": "3.7.4"
  }
 },
 "nbformat": 4,
 "nbformat_minor": 2
}
