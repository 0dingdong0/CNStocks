{
 "cells": [
  {
   "cell_type": "code",
   "execution_count": 1,
   "metadata": {},
   "outputs": [],
   "source": [
    "from pywinauto.application import Application\n",
    "from types import SimpleNamespace\n",
    "from pywinauto import clipboard\n",
    "from PIL import ImageGrab\n",
    "\n",
    "import pytesseract\n",
    "import time"
   ]
  },
  {
   "cell_type": "code",
   "execution_count": 2,
   "metadata": {},
   "outputs": [],
   "source": [
    "identity = SimpleNamespace()\n",
    "identity.account = '39954163'\n",
    "identity.password = '849152'"
   ]
  },
  {
   "cell_type": "code",
   "execution_count": 6,
   "metadata": {},
   "outputs": [],
   "source": [
    "app = Application(backend='uia').start('C:\\\\国金证券同花顺独立下单\\\\xiadan.exe')"
   ]
  },
  {
   "cell_type": "code",
   "execution_count": 7,
   "metadata": {},
   "outputs": [
    {
     "data": {
      "text/plain": [
       "<uiawrapper.UIAWrapper - '用户登录', Dialog, 3713040050290465231>"
      ]
     },
     "execution_count": 7,
     "metadata": {},
     "output_type": "execute_result"
    }
   ],
   "source": [
    "login = app.window(title=\"用户登录\", class_name=\"#32770\")\n",
    "login.wait('visible')"
   ]
  },
  {
   "cell_type": "code",
   "execution_count": 8,
   "metadata": {},
   "outputs": [
    {
     "name": "stdout",
     "output_type": "stream",
     "text": [
      "verification codes: RBY2\n"
     ]
    }
   ],
   "source": [
    "# set password\n",
    "ipfd = login.child_window(auto_id=\"1012\", class_name=\"Edit\")\n",
    "ipfd.set_text(identity.password)\n",
    "\n",
    "# set verification codes\n",
    "while True:\n",
    "    time.sleep(5)\n",
    "    ver_img = login.child_window(auto_id=\"1499\", class_name=\"Static\")\n",
    "    box = (ver_img.rectangle().left, ver_img.rectangle().top, ver_img.rectangle().right-14, ver_img.rectangle().bottom)\n",
    "    im = ImageGrab.grab().crop(box)\n",
    "    verification_code = pytesseract.image_to_string(im)\n",
    "    print('verification codes:', verification_code)\n",
    "    ipfd = login.child_window(auto_id=\"1003\", class_name=\"Edit\")\n",
    "    ipfd.set_text(verification_code)\n",
    "\n",
    "    time.sleep(2)\n",
    "    button_ok = login.child_window(auto_id=\"1006\", class_name=\"Button\")\n",
    "    button_ok.click()\n",
    "\n",
    "    try:\n",
    "        dlg = app.window(title=\"网上股票交易系统5.0\")\n",
    "        dlg.wait('visible', timeout=5)\n",
    "    except Exception as e:\n",
    "        login.child_window(title=\"确定\", auto_id='2').click()\n",
    "        continue\n",
    "    \n",
    "    try:\n",
    "        button_ok = dlg.child_window(title=\"确定\", auto_id='1')\n",
    "        button_ok.click()\n",
    "    except Exception as e:\n",
    "        pass\n",
    "\n",
    "    break"
   ]
  },
  {
   "cell_type": "code",
   "execution_count": null,
   "metadata": {},
   "outputs": [],
   "source": []
  },
  {
   "cell_type": "code",
   "execution_count": null,
   "metadata": {},
   "outputs": [],
   "source": []
  },
  {
   "cell_type": "code",
   "execution_count": 10,
   "metadata": {},
   "outputs": [],
   "source": [
    "tab = dlg.child_window(auto_id=\"1001\", class_name=\"CCustomTabCtrl\")\n",
    "click(coords=(tab.rectangle().left+120, tab.rectangle().top+10))"
   ]
  },
  {
   "cell_type": "code",
   "execution_count": 11,
   "metadata": {},
   "outputs": [
    {
     "data": {
      "text/plain": [
       "<uia_controls.ButtonWrapper - '确定', Button, 3713040262629909031>"
      ]
     },
     "execution_count": 11,
     "metadata": {},
     "output_type": "execute_result"
    }
   ],
   "source": [
    "ipfd = dlg.child_window(auto_id=\"1012\", class_name=\"Edit\")\n",
    "ipfd.wait('visible')\n",
    "ipfd.set_text(identity.password)\n",
    "dlg.child_window(auto_id=\"1\", class_name=\"Button\").click()"
   ]
  },
  {
   "cell_type": "code",
   "execution_count": 17,
   "metadata": {},
   "outputs": [],
   "source": [
    "query = dlg.child_window(title='查　　询', control_type=\"TreeItem\")"
   ]
  },
  {
   "cell_type": "code",
   "execution_count": 19,
   "metadata": {},
   "outputs": [],
   "source": [
    "click(coords=(query.rectangle().left+10, query.rectangle().top+10))"
   ]
  },
  {
   "cell_type": "code",
   "execution_count": 20,
   "metadata": {},
   "outputs": [],
   "source": [
    "query = dlg.child_window(title='查询资产', control_type=\"TreeItem\")\n",
    "click(coords=(query.rectangle().left+10, query.rectangle().top+10))"
   ]
  },
  {
   "cell_type": "code",
   "execution_count": 35,
   "metadata": {},
   "outputs": [
    {
     "data": {
      "text/plain": [
       "301.59"
      ]
     },
     "execution_count": 35,
     "metadata": {},
     "output_type": "execute_result"
    }
   ],
   "source": []
  },
  {
   "cell_type": "code",
   "execution_count": 33,
   "metadata": {},
   "outputs": [],
   "source": []
  },
  {
   "cell_type": "code",
   "execution_count": 38,
   "metadata": {},
   "outputs": [
    {
     "data": {
      "text/plain": [
       "62689.0"
      ]
     },
     "execution_count": 38,
     "metadata": {},
     "output_type": "execute_result"
    }
   ],
   "source": []
  },
  {
   "cell_type": "code",
   "execution_count": null,
   "metadata": {},
   "outputs": [],
   "source": [
    "# 当前 余额\n",
    "el = dlg.child_window(auto_id=\"10000\", class_name=\"Static\")\n",
    "remain = float(el.window_text())\n",
    "remain"
   ]
  },
  {
   "cell_type": "code",
   "execution_count": 50,
   "metadata": {},
   "outputs": [],
   "source": [
    "# 证券市值\n",
    "el = dlg.child_window(auto_id=\"10006\", class_name=\"Static\")\n",
    "stocks_value = float(el.window_text())\n",
    "stocks_value"
   ]
  },
  {
   "cell_type": "code",
   "execution_count": 73,
   "metadata": {},
   "outputs": [
    {
     "name": "stdout",
     "output_type": "stream",
     "text": [
      "verification codes: 3201\n"
     ]
    },
    {
     "data": {
      "text/plain": [
       "'\\r\\nfrom pywinauto import clipboard'"
      ]
     },
     "execution_count": 73,
     "metadata": {},
     "output_type": "execute_result"
    }
   ],
   "source": [
    "# 获取 表格 内容\n",
    "el = dlg.child_window(auto_id=\"1047\", class_name=\"CVirtualGridCtrl\")\n",
    "el.type_keys('^A^C')\n",
    "ver_img = dlg.child_window(auto_id=\"2405\", class_name=\"Static\")\n",
    "box = (ver_img.rectangle().left, ver_img.rectangle().top, ver_img.rectangle().right+3, ver_img.rectangle().bottom)\n",
    "im = ImageGrab.grab().crop(box)\n",
    "verification_code = pytesseract.image_to_string(im)\n",
    "print('verification codes:', verification_code)\n",
    "ipfd = dlg.child_window(auto_id=\"2404\", class_name=\"Edit\")\n",
    "ipfd.set_text(verification_code)\n",
    "dlg.child_window(auto_id=\"1\", class_name=\"Button\").click()\n",
    "clipboard.GetData()"
   ]
  },
  {
   "cell_type": "code",
   "execution_count": 75,
   "metadata": {},
   "outputs": [],
   "source": [
    "text = clipboard.GetData()"
   ]
  },
  {
   "cell_type": "code",
   "execution_count": 86,
   "metadata": {
    "scrolled": false
   },
   "outputs": [
    {
     "data": {
      "text/plain": [
       "[{'证券代码': '600869',\n",
       "  '证券名称': '智慧能源',\n",
       "  '股票余额': '13900',\n",
       "  '可用余额': '13900',\n",
       "  '冻结数量': '0',\n",
       "  '参考成本价': '4.719',\n",
       "  '市价': '4.510',\n",
       "  '市值': '62689.000',\n",
       "  '参考盈亏': '-4372.730',\n",
       "  '参考盈亏比例': '-4.429',\n",
       "  '交易市场': '上海Ａ股',\n",
       "  '股东帐户': 'E032622618',\n",
       "  '证券集中度': '99.52%'}]"
      ]
     },
     "execution_count": 86,
     "metadata": {},
     "output_type": "execute_result"
    }
   ],
   "source": [
    "keys = []\n",
    "stocks = []\n",
    "for row_idx, line in enumerate(text.split('\\r\\n')):\n",
    "    stock = {}\n",
    "    for col_idx, value in enumerate(line.split('\\t')):\n",
    "        if row_idx == 0 and value.strip():\n",
    "            keys.append(value.strip())\n",
    "        elif row_idx !=0 and value.strip():\n",
    "            if col_idx >= len(keys):\n",
    "                break\n",
    "            stock[keys[col_idx]] = value.strip()\n",
    "    if stock:\n",
    "        stocks.append(stock)\n",
    "stocks"
   ]
  },
  {
   "cell_type": "code",
   "execution_count": 70,
   "metadata": {},
   "outputs": [],
   "source": []
  },
  {
   "cell_type": "code",
   "execution_count": null,
   "metadata": {},
   "outputs": [],
   "source": []
  },
  {
   "cell_type": "code",
   "execution_count": null,
   "metadata": {},
   "outputs": [],
   "source": []
  },
  {
   "cell_type": "code",
   "execution_count": null,
   "metadata": {},
   "outputs": [],
   "source": []
  }
 ],
 "metadata": {
  "kernelspec": {
   "display_name": "Python 3",
   "language": "python",
   "name": "python3"
  },
  "language_info": {
   "codemirror_mode": {
    "name": "ipython",
    "version": 3
   },
   "file_extension": ".py",
   "mimetype": "text/x-python",
   "name": "python",
   "nbconvert_exporter": "python",
   "pygments_lexer": "ipython3",
   "version": "3.7.4"
  }
 },
 "nbformat": 4,
 "nbformat_minor": 2
}
