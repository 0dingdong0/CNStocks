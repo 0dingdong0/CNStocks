{
 "cells": [
  {
   "cell_type": "code",
   "execution_count": null,
   "metadata": {},
   "outputs": [],
   "source": [
    "import easyquotation\n",
    "import decimal\n",
    "import pendulum\n",
    "import math\n",
    "import requests\n",
    "import easyutils\n",
    "import redis\n",
    "import time\n",
    "import platform\n",
    "import subprocess\n",
    "import types\n",
    "import os\n",
    "import struct\n",
    "import pandas as pd\n",
    "import numpy as np\n",
    "\n",
    "from random import randrange\n",
    "from pytdx.hq import TdxHq_API\n",
    "from pytdx.params import TDXParams\n",
    "from pytdx.config.hosts import hq_hosts as tdx_hq_hosts\n",
    "from pytdx.reader import TdxDailyBarReader, TdxFileNotFoundException"
   ]
  },
  {
   "cell_type": "code",
   "execution_count": null,
   "metadata": {},
   "outputs": [],
   "source": []
  },
  {
   "cell_type": "code",
   "execution_count": null,
   "metadata": {},
   "outputs": [],
   "source": [
    "decimal.getcontext().rounding = decimal.ROUND_HALF_UP"
   ]
  },
  {
   "cell_type": "code",
   "execution_count": null,
   "metadata": {},
   "outputs": [],
   "source": [
    "class HQ:\n",
    "    def __init__(self, tdx_dir=None):\n",
    "        \n",
    "        self.redis = redis.Redis(host='127.0.0.1', port=6379, decode_responses=True)\n",
    "        \n",
    "        self.tdx = TdxHq_API(heartbeat=True, auto_retry=True)\n",
    "        self.tdx_connect_to_server()\n",
    "        self.tdx_dir = tdx_dir\n",
    "        self.tdx_hq_hosts = tdx_hq_hosts\n",
    "        \n",
    "        self.sina = easyquotation.use('sina')\n",
    "        self.timekline = easyquotation.use('timekline')\n",
    "        self.snapshot = self.sina.market_snapshot(prefix=False)\n",
    "        \n",
    "        self.last_trading_date = self.get_last_trading_date()\n",
    "        \n",
    "        self.update_stock_codes()\n",
    "        \n",
    "        self.codes = self.get_stock_codes()\n",
    "        \n",
    "        \n",
    "    def get_last_trading_date(self):\n",
    "        stock = self.sina.real('399001')['399001']\n",
    "        dt_str = stock['date']+' '+stock['time']\n",
    "        return pendulum.parse(dt_str, tz='Asia/Shanghai')\n",
    "    \n",
    "    \n",
    "    def get_zt_stocks(self, trading_date=None):\n",
    "\n",
    "        if not trading_date or not self.is_trading_day(trading_date):\n",
    "            trading_date = self.last_trading_date\n",
    "\n",
    "        stocks = None\n",
    "\n",
    "        if trading_date.to_date_string() == self.last_trading_date.to_date_string():\n",
    "            stocks = self.snapshot\n",
    "        elif self.is_trading_day(trading_date):\n",
    "            stocks = self.get_historic_snapshot(trading_date)\n",
    "\n",
    "        zt_stocks = {}\n",
    "        for code in stocks:\n",
    "\n",
    "            stock = stocks[code]\n",
    "\n",
    "            if stock['close'] == 0:\n",
    "                continue\n",
    "\n",
    "            if stock['date'] != trading_date.to_date_string():\n",
    "                continue\n",
    "\n",
    "            high = stock['high']\n",
    "            now = stock['now']\n",
    "            close = stock['close']\n",
    "            zt_price = float(round(decimal.Decimal(close * 1.1), 2))\n",
    "\n",
    "            stock['zt_price'] = zt_price\n",
    "\n",
    "            if high >= zt_price or high/close >=1.095:\n",
    "\n",
    "                if now >= zt_price:\n",
    "                    stock['is_zt'] = True\n",
    "                    stock['is_lanban'] = False\n",
    "                elif high >= zt_price:\n",
    "                    stock['is_zt'] = False\n",
    "                    stock['is_lanban'] = True\n",
    "                else:\n",
    "                    stock['is_zt'] = False\n",
    "                    stock['is_lanban'] = False\n",
    "\n",
    "                zt_stocks[code] = stock\n",
    "\n",
    "        data_fs = {}\n",
    "        for i in range(20):\n",
    "            codes = list(set(list(zt_stocks.keys())) - set(list(data_fs.keys())))\n",
    "            if not codes:\n",
    "                break\n",
    "\n",
    "            result = self.timekline.real(codes, prefix=True)\n",
    "            for key in result:\n",
    "                code = key[2:-3]\n",
    "                data_fs[code] = result[key]\n",
    "\n",
    "        assert len(zt_stocks) == len(data_fs)\n",
    "\n",
    "        for code in zt_stocks:\n",
    "            stock = zt_stocks[code]\n",
    "            fs = data_fs[code]\n",
    "\n",
    "            assert trading_date.format('YYYYMMDD') == fs['date']\n",
    "\n",
    "            time_mp = None\n",
    "            high = 0.00\n",
    "            for data in fs['time_data']:\n",
    "                time, price, vol = data\n",
    "                price = float(price)\n",
    "                if high < price:\n",
    "                    high = price\n",
    "                    time = time[:2] + ':' + time[2:] + \":00\"\n",
    "                    stock['peek_time'] = trading_date.to_date_string() + ' ' + time\n",
    "\n",
    "        zt_stocks = list(zt_stocks.values())\n",
    "        zt_stocks.sort(key=lambda x: x['peek_time'])\n",
    "\n",
    "        return zt_stocks\n",
    "    \n",
    "    def get_historic_snapshot(self, trading_date):\n",
    "        \n",
    "        # 检测 通达信 本地数据 是否 满足本次调用\n",
    "        assert self.is_tdx_local_data_ready_for(trading_date)\n",
    "        \n",
    "        reader = TdxDailyBarReader()\n",
    "\n",
    "        date_str = trading_date.to_date_string()\n",
    "        sh = self.tdx_dir+'\\\\vipdoc\\\\sh\\\\lday\\\\'\n",
    "        sz = self.tdx_dir+'\\\\vipdoc\\\\sz\\\\lday\\\\'\n",
    "\n",
    "        stocks = {}\n",
    "        codes = self.get_stock_codes()\n",
    "\n",
    "        total = len(codes)\n",
    "\n",
    "        for idx, code in enumerate(codes):\n",
    "\n",
    "\n",
    "            if code.startswith('6'):\n",
    "                file = sh + 'sh' + code +'.day'\n",
    "            else:\n",
    "                file = sz + 'sz' + code +'.day'\n",
    "\n",
    "            print(str(idx+1)+'/'+str(total)+', '+file+' ', end='\\r')\n",
    "\n",
    "            if not os.path.exists(file):\n",
    "                continue\n",
    "\n",
    "            df = reader.get_df(file)\n",
    "\n",
    "            if date_str in df.index:\n",
    "                stock = df.loc[date_str].to_dict()\n",
    "                stock['date'] = date_str\n",
    "                stock['now'] = stock['close']\n",
    "\n",
    "                index = df.index.get_loc(date_str)\n",
    "                if index == 0:\n",
    "                    stock['close'] = stock['open']\n",
    "                else:\n",
    "                    index -= 1\n",
    "                    stock['close'] = df.iloc[index].to_dict()['close']\n",
    "\n",
    "                stocks[code] = stock\n",
    "\n",
    "        return stocks\n",
    "    \n",
    "    def get_stock_codes(self):\n",
    "        return easyquotation.get_stock_codes()\n",
    "    \n",
    "    def is_trading_day(self, date):\n",
    "        url = 'http://tool.bitefu.net/jiari/?d='+date.format('YYYYMMDD')\n",
    "        if int(requests.get(url).content) == 0:\n",
    "            return True\n",
    "        else:\n",
    "            return False\n",
    "        # return not easyutils.is_holiday(date.format('YYYYMMDD'))\n",
    "    \n",
    "    def is_stock_codes_update_needed(self):\n",
    "        update_dt = self.redis.get('stock_codes_update_time')\n",
    "        if not update_dt:\n",
    "            return True\n",
    "        timezone = 'Asia/Shanghai'\n",
    "        update_dt = pendulum.parse(update_dt, tz=timezone)\n",
    "\n",
    "        dt = pendulum.now()\n",
    "        if not self.is_trading_day(dt):\n",
    "            dt = self.last_trading_date\n",
    "\n",
    "        compare_dt = pendulum.parse(dt.to_date_string() + ' 09:00:00', tz=timezone)\n",
    "\n",
    "        if dt.to_date_string() == pendulum.now().to_date_string() and dt <= compare_dt:\n",
    "            return False\n",
    "        \n",
    "        if update_dt <= compare_dt:\n",
    "            return True\n",
    "        else:\n",
    "            return False\n",
    "\n",
    "    def update_stock_codes(self, force=False):\n",
    "        \n",
    "        # if not self.is_tdx_local_data_ready_for(self.last_trading_date):\n",
    "        #     print('通达信 本地数据 需要更新！')\n",
    "        #     return\n",
    "        \n",
    "        old_codes = easyquotation.get_stock_codes()\n",
    "        is_update_needed = self.is_stock_codes_update_needed()\n",
    "\n",
    "        if is_update_needed or force:\n",
    "            if is_update_needed:\n",
    "                print('更新股票代码')\n",
    "            code_filter = []\n",
    "            code_filter.append(['000', '002', '300'])\n",
    "            code_filter.append(['600', '601', '603', '688'])\n",
    "\n",
    "\n",
    "            step_size = 1000\n",
    "            codes = []\n",
    "            for market in range(2):\n",
    "\n",
    "                count = self.tdx.get_security_count(market)\n",
    "                print(market, count, end=' : ')\n",
    "\n",
    "                steps = math.ceil(count/step_size)\n",
    "\n",
    "                total = 0\n",
    "                for step in range(steps):\n",
    "                    result = self.tdx.get_security_list(market, step_size*step)\n",
    "                    print(str(step)+'/'+str(steps), end=\", \")\n",
    "                    for item in result:\n",
    "                        code = item['code'].strip()\n",
    "                        if code[:3] in code_filter[market]:\n",
    "                            codes.append(code)\n",
    "                            total += 1\n",
    "\n",
    "                print('summe:'+str(total))\n",
    "            print('summe:'+str(len(codes)))\n",
    "\n",
    "            easyquotation.update_stock_codes(codes)\n",
    "            self.sina.codes = codes\n",
    "            \n",
    "            print('新增 股票 代码：', set(codes)-set(old_codes))\n",
    "\n",
    "            self.redis.set('stock_codes_update_time', pendulum.now().to_datetime_string())\n",
    "        else:\n",
    "            print('股票代码已更新')\n",
    "            \n",
    "    def test_tdx_hosts(self):\n",
    "        hosts = []\n",
    "        for host in tdx_hq_hosts:\n",
    "            print('ping host:', host, end=\", \")\n",
    "            time = self.ping(host[1])\n",
    "            print(time, 'ms')\n",
    "            host = [*host]\n",
    "            host.append(time)\n",
    "            hosts.append(host)\n",
    "\n",
    "        hosts.sort(key=lambda x : x[3])\n",
    "\n",
    "        key = 'tdx_hosts'\n",
    "        self.redis.delete(key)\n",
    "        for host in hosts:\n",
    "            if host[3] > 100:\n",
    "                break\n",
    "            self.redis.rpush(key, host[1]+':'+str(host[2]))\n",
    "        return hosts\n",
    "    \n",
    "    def tdx_connect_to_server(self):\n",
    "        key = 'tdx_hosts'\n",
    "        \n",
    "        if self.redis.exists(\"tdx_hosts\") == 0:\n",
    "            print('use default server: ', '202.108.253.130:7709')\n",
    "            print('please run test_tdx_hosts to test out fast servers')\n",
    "            self.tdx.connect('202.108.253.130', 7709)\n",
    "        else:\n",
    "            idx = -1\n",
    "            min_host = None\n",
    "            min_time = None\n",
    "            while True:\n",
    "                idx += 1\n",
    "                host = self.redis.lindex(key, idx)\n",
    "                if host is None:\n",
    "                    break\n",
    "\n",
    "                host = host.split(':')\n",
    "                print(host, end=\", \")\n",
    "                try:\n",
    "                    time = self.ping(host[0])\n",
    "                except Exception as e:\n",
    "                    continue\n",
    "                print('used', round(time,2), 'ms')\n",
    "\n",
    "                if min_time is None or min_time > time:\n",
    "                    min_time = time\n",
    "                    min_host = (host[0], int(host[1]))\n",
    "\n",
    "\n",
    "            print('selected:', min_host, round(min_time, 2), 'ms')\n",
    "            self.tdx.connect(*min_host)\n",
    "            \n",
    "    def get_tdx_gainian(self):\n",
    "        assert self.tdx_dir\n",
    "\n",
    "        fname = self.tdx_dir + '\\\\T0002\\hq_cache\\\\block_gn.dat'\n",
    "        result = {}\n",
    "        if type(fname) is not bytearray:\n",
    "            with open(fname, \"rb\") as f:\n",
    "                data = f.read()\n",
    "        else:\n",
    "            data = fname\n",
    "\n",
    "        pos = 384\n",
    "        (num, ) = struct.unpack(\"<H\", data[pos: pos + 2])\n",
    "        pos += 2\n",
    "        for i in range(num):\n",
    "            blockname_raw = data[pos: pos + 9]\n",
    "            pos += 9\n",
    "            name = blockname_raw.decode(\"gbk\", 'ignore').rstrip(\"\\x00\")\n",
    "            stock_count, block_type = struct.unpack(\"<HH\", data[pos: pos + 4])\n",
    "            pos += 4\n",
    "            block_stock_begin = pos\n",
    "            codes = []\n",
    "            for code_index in range(stock_count):\n",
    "                one_code = data[pos: pos + 7].decode(\"utf-8\", 'ignore').rstrip(\"\\x00\")\n",
    "                codes.append(one_code)\n",
    "                pos += 7\n",
    "\n",
    "            gn = {}\n",
    "            gn[\"name\"] = name\n",
    "            gn[\"block_type\"] = block_type\n",
    "            gn[\"stock_count\"] = stock_count\n",
    "            gn[\"codes\"] = codes\n",
    "            result[name] = gn\n",
    "\n",
    "            pos = block_stock_begin + 2800\n",
    "\n",
    "        return result\n",
    "    \n",
    "    def get_tdx_hangye(self):\n",
    "        assert self.tdx_dir\n",
    "\n",
    "        file_hangye = self.tdx_dir + '\\\\incon.dat'\n",
    "        assert os.path.exists(file_hangye)\n",
    "        file_stock_hangye = self.tdx_dir + '\\T0002\\hq_cache\\\\tdxhy.cfg'\n",
    "        assert os.path.exists(file_stock_hangye)\n",
    "\n",
    "        result = {}\n",
    "        with open(file_hangye, \"rt\", encoding='gb2312') as f:\n",
    "            isTDXHY = False\n",
    "            for line in f:\n",
    "                line = line.rstrip()\n",
    "                if not isTDXHY and line != '#TDXNHY':\n",
    "                    continue\n",
    "                elif not isTDXHY and line == '#TDXNHY':\n",
    "                    isTDXHY = True\n",
    "                    continue\n",
    "                elif isTDXHY and line == '######':\n",
    "                    isTDXHY = False\n",
    "                    break\n",
    "                code, name = line.split('|')\n",
    "                result[code] = {}\n",
    "                result[code]['code'] = code\n",
    "                result[code]['name'] = name\n",
    "                result[code]['codes'] = []\n",
    "\n",
    "        with open(file_stock_hangye, \"rt\", encoding='gb2312') as f:\n",
    "            for line in f:\n",
    "                line = line.rstrip()\n",
    "                market_code, stock_code, tdxhy_code, swhy_code, unknown_code = line.split(\"|\")\n",
    "                stock_code = stock_code.strip()\n",
    "\n",
    "                if tdxhy_code != 'T00':\n",
    "                    result[tdxhy_code]['codes'].append(stock_code)\n",
    "        return result\n",
    "    \n",
    "    def get_tdx_zhishu(self):\n",
    "        assert self.tdx_dir\n",
    "\n",
    "        tdxzs_cfg = self.tdx_dir + '\\\\T0002\\\\hq_cache\\\\tdxzs.cfg'\n",
    "        gainian = self.get_tdx_gainian()\n",
    "        hangye = self.get_tdx_hangye()\n",
    "\n",
    "        result = {}\n",
    "        with open(tdxzs_cfg, \"rt\", encoding='gb2312') as f:\n",
    "            for line in f:\n",
    "                line = line.rstrip()\n",
    "                zs_name, zs_code, zs_type, num_1, num_2, key = line.split('|')\n",
    "\n",
    "                if key in gainian:\n",
    "                    if zs_code in result:\n",
    "                        print('------------------------------------------------------')\n",
    "                        print('in result key: ', key, zs_name, zs_code)\n",
    "                        print('gainian: ', key, gainian[key])\n",
    "                        continue\n",
    "                    else:\n",
    "                        if len(gainian[key]['codes']) == 0:\n",
    "                            continue\n",
    "                        zs = {}\n",
    "                        zs['code'] = zs_code\n",
    "                        zs['name'] = gainian[key]['name']\n",
    "                        zs['codes'] = gainian[key]['codes']\n",
    "                        result[zs_code] = zs\n",
    "\n",
    "                if key in hangye:\n",
    "                    if zs_code in result:\n",
    "                        print('------------------------------------------------------')\n",
    "                        print('in result key: ', key, zs_name, zs_code)\n",
    "                        print('hangye: ', key, hangye[key])\n",
    "                        continue\n",
    "                    else:\n",
    "                        if len(hangye[key]['codes']) == 0:\n",
    "                            continue\n",
    "                        zs = {}\n",
    "                        zs['code'] = zs_code\n",
    "                        zs['name'] = hangye[key]['name']\n",
    "                        zs['codes'] = hangye[key]['codes']\n",
    "                        result[zs_code] = zs\n",
    "\n",
    "        return result\n",
    "\n",
    "    def is_tdx_local_data_ready_for(self, date):\n",
    "        file = self.tdx_dir+'\\\\vipdoc\\\\sz\\\\lday\\\\sz399001.day'\n",
    "        reader = TdxDailyBarReader()\n",
    "        df = reader.get_df(file)\n",
    "\n",
    "        return date.to_date_string() in df.index\n",
    "    \n",
    "    def ping(self, host):\n",
    "    \n",
    "        param = '-n' if platform.system().lower()=='windows' else '-c'\n",
    "        command = ['ping', param, '1', host]\n",
    "\n",
    "        start = time.time()\n",
    "        subprocess.call(command)\n",
    "        end = time.time()\n",
    "        return (end - start)*1000"
   ]
  },
  {
   "cell_type": "code",
   "execution_count": null,
   "metadata": {},
   "outputs": [],
   "source": [
    "tdx_dir = 'C:\\\\tdx\\\\tdx_7.46'\n",
    "hq = HQ(tdx_dir=tdx_dir)"
   ]
  },
  {
   "cell_type": "code",
   "execution_count": null,
   "metadata": {},
   "outputs": [],
   "source": [
    "hq.update_stock_codes(force=True)"
   ]
  },
  {
   "cell_type": "code",
   "execution_count": null,
   "metadata": {},
   "outputs": [],
   "source": [
    "# hq.update_stock_codes = types.MethodType(update_stock_codes, hq)"
   ]
  },
  {
   "cell_type": "code",
   "execution_count": null,
   "metadata": {},
   "outputs": [],
   "source": [
    "codes = hq.get_stock_codes()\n",
    "len(codes)"
   ]
  },
  {
   "cell_type": "code",
   "execution_count": null,
   "metadata": {},
   "outputs": [],
   "source": [
    "ms = hq.sina.market_snapshot(prefix=False)\n",
    "len(ms)"
   ]
  },
  {
   "cell_type": "code",
   "execution_count": null,
   "metadata": {},
   "outputs": [],
   "source": [
    "view = np.empty(len(ms), 7, dtype=np.float32)\n",
    "\n",
    "for idx, code in enumerate(codes):\n",
    "    stock = ss[code]\n",
    "    view[idx, 0] = stock['open'] if stock['open'] != 0 else np.nan\n",
    "    view[idx, 1] = stock['close'] if stock['close'] != 0 else np.nan\n",
    "    view[idx, 2] = stock['now'] if stock['now'] != 0 else np.nan\n",
    "    view[idx, 3] = stock['high'] if stock['high'] != 0 else np.nan\n",
    "    view[idx, 4] = stock['low'] if stock['low'] != 0 else np.nan\n",
    "    view[idx, 5] = stock['turnover'] if stock['turnover'] != 0 else np.nan\n",
    "    view[idx, 6] = stock['volume'] if stock['volume'] != 0 else np.nan\n"
   ]
  },
  {
   "cell_type": "code",
   "execution_count": null,
   "metadata": {},
   "outputs": [],
   "source": [
    "%%timeit -n10 -c\n",
    "view = np.empty((len(ms), 7), dtype=np.float32)\n",
    "view.fill(np.nan)\n",
    "\n",
    "for idx, code in enumerate(codes):\n",
    "    stock = ms[code]\n",
    "    view[idx, 0] = stock['open'] if stock['open'] != 0 else np.nan\n",
    "    view[idx, 1] = stock['close'] if stock['close'] != 0 else np.nan\n",
    "    view[idx, 2] = stock['now'] if stock['now'] != 0 else np.nan\n",
    "    view[idx, 3] = stock['high'] if stock['high'] != 0 else np.nan\n",
    "    view[idx, 4] = stock['low'] if stock['low'] != 0 else np.nan\n",
    "    view[idx, 5] = stock['turnover'] if stock['turnover'] != 0 else np.nan\n",
    "    view[idx, 6] = stock['volume'] if stock['volume'] != 0 else np.nan"
   ]
  },
  {
   "cell_type": "code",
   "execution_count": null,
   "metadata": {},
   "outputs": [],
   "source": []
  },
  {
   "cell_type": "code",
   "execution_count": null,
   "metadata": {},
   "outputs": [],
   "source": []
  },
  {
   "cell_type": "code",
   "execution_count": null,
   "metadata": {
    "scrolled": false
   },
   "outputs": [],
   "source": [
    "l1 = hq.tdx.get_history_minute_time_data(TDXParams.MARKET_SH, '600300', 20190718)\n",
    "l2 = hq.timekline.real('600300')"
   ]
  },
  {
   "cell_type": "code",
   "execution_count": null,
   "metadata": {
    "scrolled": true
   },
   "outputs": [],
   "source": [
    "l = []\n",
    "lv = 0\n",
    "for idx, (t, p, v) in enumerate(l2['sh600300.js']['time_data']):\n",
    "    l.append([t,p,int(v)-lv])\n",
    "    lv = int(v)"
   ]
  },
  {
   "cell_type": "code",
   "execution_count": null,
   "metadata": {
    "scrolled": false
   },
   "outputs": [],
   "source": []
  },
  {
   "cell_type": "code",
   "execution_count": null,
   "metadata": {},
   "outputs": [],
   "source": []
  },
  {
   "cell_type": "code",
   "execution_count": null,
   "metadata": {},
   "outputs": [],
   "source": []
  },
  {
   "cell_type": "code",
   "execution_count": null,
   "metadata": {},
   "outputs": [],
   "source": []
  },
  {
   "cell_type": "code",
   "execution_count": null,
   "metadata": {},
   "outputs": [],
   "source": []
  },
  {
   "cell_type": "code",
   "execution_count": null,
   "metadata": {},
   "outputs": [],
   "source": []
  },
  {
   "cell_type": "code",
   "execution_count": null,
   "metadata": {},
   "outputs": [],
   "source": []
  },
  {
   "cell_type": "code",
   "execution_count": null,
   "metadata": {},
   "outputs": [],
   "source": []
  },
  {
   "cell_type": "code",
   "execution_count": null,
   "metadata": {},
   "outputs": [],
   "source": [
    "tdx = TdxHq_API(heartbeat=True, auto_retry=True)"
   ]
  },
  {
   "cell_type": "code",
   "execution_count": null,
   "metadata": {},
   "outputs": [],
   "source": [
    "tdx.get_company_info_category(TDXParams.MARKET_SZ, '002717')"
   ]
  },
  {
   "cell_type": "code",
   "execution_count": null,
   "metadata": {},
   "outputs": [],
   "source": []
  },
  {
   "cell_type": "code",
   "execution_count": null,
   "metadata": {},
   "outputs": [],
   "source": [
    "import tushare as TS"
   ]
  },
  {
   "cell_type": "code",
   "execution_count": null,
   "metadata": {},
   "outputs": [],
   "source": [
    "ts = TS.pro_api('aecca28adc0d5a7764b748ccd48bef923d81314ae47b4d44d51fce67')"
   ]
  },
  {
   "cell_type": "code",
   "execution_count": null,
   "metadata": {},
   "outputs": [],
   "source": [
    "set(codes)-set(ts.stock_basic(exchange='', list_status='L', fields='ts_code,symbol,name,area,industry,list_date')['symbol'])"
   ]
  },
  {
   "cell_type": "code",
   "execution_count": null,
   "metadata": {},
   "outputs": [],
   "source": [
    "ts.trade_cal(exchange='', start_date='20190726', end_date='20190731')"
   ]
  },
  {
   "cell_type": "code",
   "execution_count": null,
   "metadata": {},
   "outputs": [],
   "source": [
    "ts.daily_basic(ts_code='', trade_date='20190726', fields='ts_code,total_share,float_share,free_share')"
   ]
  },
  {
   "cell_type": "code",
   "execution_count": null,
   "metadata": {},
   "outputs": [],
   "source": []
  },
  {
   "cell_type": "code",
   "execution_count": null,
   "metadata": {},
   "outputs": [],
   "source": []
  },
  {
   "cell_type": "code",
   "execution_count": null,
   "metadata": {
    "scrolled": true
   },
   "outputs": [],
   "source": []
  },
  {
   "cell_type": "code",
   "execution_count": null,
   "metadata": {},
   "outputs": [],
   "source": []
  },
  {
   "cell_type": "code",
   "execution_count": null,
   "metadata": {},
   "outputs": [],
   "source": []
  },
  {
   "cell_type": "code",
   "execution_count": null,
   "metadata": {},
   "outputs": [],
   "source": []
  },
  {
   "cell_type": "code",
   "execution_count": null,
   "metadata": {},
   "outputs": [],
   "source": []
  },
  {
   "cell_type": "code",
   "execution_count": null,
   "metadata": {},
   "outputs": [],
   "source": []
  },
  {
   "cell_type": "code",
   "execution_count": null,
   "metadata": {},
   "outputs": [],
   "source": []
  },
  {
   "cell_type": "code",
   "execution_count": null,
   "metadata": {},
   "outputs": [],
   "source": []
  },
  {
   "cell_type": "code",
   "execution_count": null,
   "metadata": {},
   "outputs": [],
   "source": []
  },
  {
   "cell_type": "code",
   "execution_count": null,
   "metadata": {},
   "outputs": [],
   "source": []
  },
  {
   "cell_type": "code",
   "execution_count": null,
   "metadata": {},
   "outputs": [],
   "source": []
  },
  {
   "cell_type": "code",
   "execution_count": null,
   "metadata": {},
   "outputs": [],
   "source": []
  },
  {
   "cell_type": "code",
   "execution_count": null,
   "metadata": {},
   "outputs": [],
   "source": []
  },
  {
   "cell_type": "code",
   "execution_count": null,
   "metadata": {},
   "outputs": [],
   "source": []
  },
  {
   "cell_type": "code",
   "execution_count": null,
   "metadata": {},
   "outputs": [],
   "source": []
  },
  {
   "cell_type": "code",
   "execution_count": null,
   "metadata": {},
   "outputs": [],
   "source": []
  },
  {
   "cell_type": "code",
   "execution_count": null,
   "metadata": {},
   "outputs": [],
   "source": []
  },
  {
   "cell_type": "code",
   "execution_count": null,
   "metadata": {},
   "outputs": [],
   "source": []
  },
  {
   "cell_type": "code",
   "execution_count": null,
   "metadata": {},
   "outputs": [],
   "source": []
  },
  {
   "cell_type": "code",
   "execution_count": null,
   "metadata": {},
   "outputs": [],
   "source": []
  },
  {
   "cell_type": "code",
   "execution_count": null,
   "metadata": {},
   "outputs": [],
   "source": []
  },
  {
   "cell_type": "code",
   "execution_count": null,
   "metadata": {},
   "outputs": [],
   "source": []
  },
  {
   "cell_type": "code",
   "execution_count": null,
   "metadata": {},
   "outputs": [],
   "source": []
  },
  {
   "cell_type": "code",
   "execution_count": null,
   "metadata": {},
   "outputs": [],
   "source": []
  },
  {
   "cell_type": "code",
   "execution_count": null,
   "metadata": {},
   "outputs": [],
   "source": []
  },
  {
   "cell_type": "code",
   "execution_count": null,
   "metadata": {},
   "outputs": [],
   "source": []
  },
  {
   "cell_type": "code",
   "execution_count": null,
   "metadata": {},
   "outputs": [],
   "source": []
  },
  {
   "cell_type": "code",
   "execution_count": null,
   "metadata": {
    "scrolled": false
   },
   "outputs": [],
   "source": []
  },
  {
   "cell_type": "code",
   "execution_count": null,
   "metadata": {},
   "outputs": [],
   "source": []
  },
  {
   "cell_type": "code",
   "execution_count": null,
   "metadata": {},
   "outputs": [],
   "source": [
    "import redis"
   ]
  },
  {
   "cell_type": "code",
   "execution_count": null,
   "metadata": {},
   "outputs": [],
   "source": [
    "r = redis.Redis(host='127.0.0.1', port=6379, decode_responses=True)"
   ]
  },
  {
   "cell_type": "code",
   "execution_count": null,
   "metadata": {},
   "outputs": [],
   "source": [
    "not r.get('dkjlfs') "
   ]
  },
  {
   "cell_type": "code",
   "execution_count": 1,
   "metadata": {},
   "outputs": [],
   "source": [
    "from libs.utils import Utils\n",
    "import easyquotation"
   ]
  },
  {
   "cell_type": "code",
   "execution_count": null,
   "metadata": {},
   "outputs": [],
   "source": [
    "codes = easyquotation.get_stock_codes()\n",
    "len(codes)"
   ]
  },
  {
   "cell_type": "code",
   "execution_count": null,
   "metadata": {},
   "outputs": [],
   "source": [
    "Utils.save_stock_codes(codes)"
   ]
  },
  {
   "cell_type": "code",
   "execution_count": null,
   "metadata": {},
   "outputs": [],
   "source": [
    "codes = Utils.get_stock_codes()\n",
    "len(codes)"
   ]
  },
  {
   "cell_type": "code",
   "execution_count": 2,
   "metadata": {},
   "outputs": [
    {
     "data": {
      "text/plain": [
       "True"
      ]
     },
     "execution_count": 2,
     "metadata": {},
     "output_type": "execute_result"
    }
   ],
   "source": [
    "Utils.is_stock_codes_update_needed()"
   ]
  },
  {
   "cell_type": "code",
   "execution_count": null,
   "metadata": {},
   "outputs": [],
   "source": []
  },
  {
   "cell_type": "code",
   "execution_count": null,
   "metadata": {},
   "outputs": [],
   "source": []
  },
  {
   "cell_type": "code",
   "execution_count": null,
   "metadata": {},
   "outputs": [],
   "source": []
  },
  {
   "cell_type": "code",
   "execution_count": null,
   "metadata": {},
   "outputs": [],
   "source": []
  },
  {
   "cell_type": "code",
   "execution_count": null,
   "metadata": {},
   "outputs": [],
   "source": []
  },
  {
   "cell_type": "code",
   "execution_count": null,
   "metadata": {},
   "outputs": [],
   "source": []
  },
  {
   "cell_type": "code",
   "execution_count": null,
   "metadata": {},
   "outputs": [],
   "source": []
  },
  {
   "cell_type": "code",
   "execution_count": null,
   "metadata": {},
   "outputs": [],
   "source": []
  },
  {
   "cell_type": "code",
   "execution_count": null,
   "metadata": {},
   "outputs": [],
   "source": []
  },
  {
   "cell_type": "code",
   "execution_count": null,
   "metadata": {},
   "outputs": [],
   "source": []
  },
  {
   "cell_type": "code",
   "execution_count": null,
   "metadata": {},
   "outputs": [],
   "source": []
  },
  {
   "cell_type": "code",
   "execution_count": null,
   "metadata": {},
   "outputs": [],
   "source": []
  },
  {
   "cell_type": "code",
   "execution_count": null,
   "metadata": {},
   "outputs": [],
   "source": []
  },
  {
   "cell_type": "code",
   "execution_count": null,
   "metadata": {},
   "outputs": [],
   "source": []
  },
  {
   "cell_type": "code",
   "execution_count": null,
   "metadata": {},
   "outputs": [],
   "source": []
  }
 ],
 "metadata": {
  "kernelspec": {
   "display_name": "Python 3",
   "language": "python",
   "name": "python3"
  },
  "language_info": {
   "codemirror_mode": {
    "name": "ipython",
    "version": 3
   },
   "file_extension": ".py",
   "mimetype": "text/x-python",
   "name": "python",
   "nbconvert_exporter": "python",
   "pygments_lexer": "ipython3",
   "version": "3.7.4"
  }
 },
 "nbformat": 4,
 "nbformat_minor": 2
}
