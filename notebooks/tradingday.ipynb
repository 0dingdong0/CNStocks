{
 "cells": [
  {
   "cell_type": "code",
   "execution_count": 2,
   "metadata": {},
   "outputs": [],
   "source": [
    "from libs.utils import Utils\n",
    "from libs.tdx import TDX\n",
    "from libs.array import D2Array, D3Array\n",
    "from libs.sina import Sina\n",
    "from libs.hq import HQ\n",
    "\n",
    "from multiprocessing.sharedctypes import RawArray\n",
    "from multiprocessing import Process, Pipe\n",
    "\n",
    "from datetime import datetime\n",
    "from datetime import timedelta\n",
    "from pyquery import PyQuery as pq\n",
    "\n",
    "import sys\n",
    "import tushare\n",
    "import asyncio\n",
    "import types\n",
    "import redis\n",
    "import h5py\n",
    "import os\n",
    "import math\n",
    "import ctypes\n",
    "import numpy as np\n",
    "\n",
    "import easyquotation\n",
    "import time\n",
    "from libs.tradingday import TradingDay"
   ]
  },
  {
   "cell_type": "code",
   "execution_count": null,
   "metadata": {},
   "outputs": [],
   "source": []
  },
  {
   "cell_type": "code",
   "execution_count": null,
   "metadata": {},
   "outputs": [],
   "source": []
  },
  {
   "cell_type": "code",
   "execution_count": null,
   "metadata": {},
   "outputs": [],
   "source": [
    "r.delete('stock_codes_update_time')"
   ]
  },
  {
   "cell_type": "code",
   "execution_count": 10,
   "metadata": {},
   "outputs": [
    {
     "name": "stdout",
     "output_type": "stream",
     "text": [
      "message[quit] used times: [8.699999995087637e-06, 7.800000005886432e-06, 9.099999999762076e-06, 8.100000002286833e-06, 9.49999999022566e-06, 8.499999992750418e-06, 9.800000000836917e-06, 8.999999991488039e-06]\n",
      "message[quit] used times: [0.07158889999999474]\n"
     ]
    }
   ],
   "source": [
    "# quit all sub processes\n",
    "trading_day.stop_hq_processes()\n",
    "trading_day.stop_assist_process()"
   ]
  },
  {
   "cell_type": "code",
   "execution_count": 3,
   "metadata": {},
   "outputs": [
    {
     "name": "stdout",
     "output_type": "stream",
     "text": [
      "['202.108.253.130', '7709'], used 53.0 ms\n",
      "['202.108.253.131', '7709'], used 48.0 ms\n",
      "['202.108.253.139', '80'], used 49.82 ms\n",
      "['120.55.172.97', '7709'], used 47.94 ms\n",
      "['123.138.29.107', '7709'], used 54.14 ms\n",
      "['101.227.73.20', '7709'], used 58.18 ms\n",
      "['59.173.18.140', '7709'], used 57.35 ms\n",
      "['117.34.114.16', '7709'], used 61.76 ms\n",
      "['117.34.114.27', '7709'], used 64.31 ms\n",
      "['117.34.114.20', '7709'], used 62.14 ms\n",
      "['117.34.114.14', '7709'], used 64.37 ms\n",
      "['58.23.131.163', '7709'], used 63.0 ms\n",
      "['117.34.114.15', '7709'], used 64.29 ms\n",
      "['117.34.114.31', '7709'], used 64.95 ms\n",
      "['117.34.114.18', '7709'], used 65.07 ms\n",
      "['117.34.114.13', '7709'], used 66.81 ms\n",
      "['117.34.114.17', '7709'], used 67.02 ms\n",
      "['117.34.114.30', '7709'], used 67.11 ms\n",
      "['113.105.92.104', '7709'], used 74.2 ms\n",
      "['113.105.92.102', '7709'], used 71.98 ms\n",
      "['113.105.92.103', '7709'], used 73.75 ms\n",
      "['113.105.92.99', '7709'], used 73.8 ms\n",
      "['113.105.92.101', '7709'], used 75.77 ms\n",
      "['113.105.92.100', '7709'], used 75.8 ms\n",
      "['14.215.128.18', '7709'], used 79.21 ms\n",
      "['60.12.136.250', '7709'], used 49.55 ms\n",
      "['220.178.55.71', '7709'], used 62.5 ms\n",
      "['119.147.212.81', '7709'], used 77.26 ms\n",
      "['211.139.150.61', '7709'], used 83.17 ms\n",
      "['59.36.5.11', '7709'], used 69.63 ms\n",
      "selected: ('120.55.172.97', 7709) 47.94 ms\n",
      "file[D:\\workspace\\python\\stock_reviews\\hdf5\\20190806.hdf5] does not exists!\n",
      "0 9432 : 0/10, 1/10, 2/10, 3/10, 4/10, 5/10, 6/10, 7/10, 8/10, 9/10, 深市 A股 总数: 2167\n",
      "1 18704 : 0/19, 1/19, 2/19, 3/19, 4/19, 5/19, 6/19, 7/19, 8/19, 9/19, 10/19, 11/19, 12/19, 13/19, 14/19, 15/19, 16/19, 17/19, 18/19, 沪市 A股 总数: 1508\n",
      "沪深 A股 总数:3675\n",
      "去掉 股票 代码： set()\n",
      "新增 股票 代码： {'603662'}\n",
      "股票代码已更新, 总计： 3668\n",
      "08月04日 21:17 08月05日 21:43 深市今日停复牌一览(8月6日)\n",
      "08月04日 21:17 08月04日 21:17 深市今日停复牌一览(8月5日)\n",
      "08月04日 21:17 08月05日 21:44 沪市今日停复牌一览(8月6日)\n",
      "08月04日 21:17 08月04日 21:17 沪市今日停复牌一览(8月5日)\n",
      "[(['300666'], ['002310', '002486']), ([], [])]\n",
      "suspended: ['300666'] resumed: ['002486', '002310']\n",
      "行情 已经 写入文件： D:\\workspace\\python\\stock_reviews\\hdf5\\20190806.hdf5\n",
      "hq process [None] was started with scope: (0, 457) and sub_group_count: 2\n",
      "hq process [None] was started with scope: (457, 914) and sub_group_count: 2\n",
      "hq process [None] was started with scope: (914, 1371) and sub_group_count: 2\n",
      "hq process [None] was started with scope: (1371, 1828) and sub_group_count: 2\n",
      "hq process [None] was started with scope: (1828, 2285) and sub_group_count: 2\n",
      "hq process [None] was started with scope: (2285, 2742) and sub_group_count: 2\n",
      "hq process [None] was started with scope: (2742, 3199) and sub_group_count: 2\n",
      "hq process [None] was started with scope: (3199, 3652) and sub_group_count: 2\n",
      "message[prepare] used times: [0.03112119999999985, 0.03677520000000012, 0.032989299999999666, 0.028712099999999907, 0.034836700000000054, 0.03510530000000012, 0.03455790000000025, 0.0349024]\n",
      "hq process [None] was started with scope: (0, 3652) and sub_group_count: 1\n",
      "message[prepare] used times: [0.018197600000000147]\n",
      "message[check] used times: [0.09114719999999998, 0.08461089999999949, 0.09162930000000014, 0.10024690000000014, 0.09578980000000037, 0.10332609999999942, 0.0825364000000004, 0.09356049999999971]\n",
      "calculating ma5vpm:\n",
      "\t data[20190805] was loaded from D:\\workspace\\python\\stock_reviews\\hdf5\\20190805.hdf5\n",
      "\t data[20190802] was loaded from D:\\workspace\\python\\stock_reviews\\hdf5\\20190802.hdf5\n",
      "\t data[20190801] was loaded from D:\\workspace\\python\\stock_reviews\\hdf5\\20190801.hdf5\n",
      "\t data[20190731] was loaded from D:\\workspace\\python\\stock_reviews\\hdf5\\20190731.hdf5\n",
      "\t data[20190730] was loaded from D:\\workspace\\python\\stock_reviews\\hdf5\\20190730.hdf5\n",
      "\t 23 000029 was from redis\n",
      "\t 239 000687 try online-loading from Sina ... done!\n",
      "\t 761 002306 try online-loading from Sina ... done!\n",
      "\t 765 002310 was from redis\n",
      "\t 938 002486 was from redis\n",
      "\t 1097 002647 try online-loading from Sina ... done!\n",
      "\t 1326 002891 try online-loading from Sina ... done!\n",
      "\t 1387 002966 try online-loading from Sina ... done! new listed stock with 2 candles!\n",
      "\t 2538 600483 try online-loading from Sina ... done!\n",
      "\t 2756 600732 try online-loading from Sina ... done!\n",
      "\t 3453 603662 try online-loading from Sina ... brand new listed stock?!\n",
      "\t finished!\n"
     ]
    }
   ],
   "source": [
    "root = 'C:\\\\tdx\\\\tdx_7.46'\n",
    "trading_day = TradingDay(tdx_root=root)"
   ]
  },
  {
   "cell_type": "code",
   "execution_count": null,
   "metadata": {},
   "outputs": [],
   "source": [
    "trading_day.date"
   ]
  },
  {
   "cell_type": "code",
   "execution_count": null,
   "metadata": {},
   "outputs": [],
   "source": [
    "len(trading_day.codes)"
   ]
  },
  {
   "cell_type": "code",
   "execution_count": null,
   "metadata": {},
   "outputs": [],
   "source": []
  },
  {
   "cell_type": "code",
   "execution_count": null,
   "metadata": {},
   "outputs": [],
   "source": [
    "trading_day.update_stock_codes(force=True)"
   ]
  },
  {
   "cell_type": "code",
   "execution_count": null,
   "metadata": {},
   "outputs": [],
   "source": []
  },
  {
   "cell_type": "code",
   "execution_count": 4,
   "metadata": {},
   "outputs": [
    {
     "name": "stdout",
     "output_type": "stream",
     "text": [
      "message[check] used times: [0.07585439999999899, 0.07339200000000012, 0.057239299999999105, 0.0693046000000006, 0.06531460000000067, 0.07666530000000016, 0.062084999999999724, 0.07847419999999872]\n"
     ]
    },
    {
     "data": {
      "text/plain": [
       "{'msl': 2999, 'fsl': 249}"
      ]
     },
     "execution_count": 4,
     "metadata": {},
     "output_type": "execute_result"
    }
   ],
   "source": [
    "msg = {'type':'function', 'function': 'check', 'args':[], 'kwargs':{}}\n",
    "out = trading_day.send_processes_message(trading_day.hq_pipes, msg)\n",
    "out[0]"
   ]
  },
  {
   "cell_type": "code",
   "execution_count": null,
   "metadata": {},
   "outputs": [],
   "source": [
    "msg = {'type':'function', 'function': 'incremental_save', 'args':[out[0]], 'kwargs':{}}\n",
    "trading_day.send_processes_message([trading_day.assist_pipe], msg, blocked=False)"
   ]
  },
  {
   "cell_type": "code",
   "execution_count": null,
   "metadata": {},
   "outputs": [],
   "source": [
    "msg = {'type':'function', 'function': 'close_hdf5', 'args':[], 'kwargs':{}}\n",
    "%time trading_day.send_processes_message([trading_day.assist_pipe], msg)"
   ]
  },
  {
   "cell_type": "code",
   "execution_count": 6,
   "metadata": {},
   "outputs": [
    {
     "name": "stdout",
     "output_type": "stream",
     "text": [
      "message[check] used times: [0.06553500000000412, 0.07467069999999865, 0.0896880999999965, 0.06935510000000278, 0.06851659999999526, 0.08287140000000193, 0.08020700000000147, 0.0729842000000005]\n"
     ]
    }
   ],
   "source": [
    "trading_day.beat()"
   ]
  },
  {
   "cell_type": "code",
   "execution_count": 5,
   "metadata": {
    "scrolled": true
   },
   "outputs": [
    {
     "data": {
      "text/plain": [
       "array([[13.10, 13.35, 13.37, ..., 13.03, 88249912.00, 1166971520.00],\n",
       "       [26.65, 27.01, 27.02, ..., 26.41, 44678976.00, 1202706304.00],\n",
       "       [18.89, 19.05, 18.24, ..., 17.79, 765400.00, 14004081.00],\n",
       "       ...,\n",
       "       [64.08, 65.80, 59.59, ..., 56.50, 19847192.00, 1309335168.00],\n",
       "       [96.52, 100.00, 101.40, ..., 96.11, 10959172.00, 1179624320.00],\n",
       "       [80.00, 79.26, 69.55, ..., 66.97, 23729792.00, 1854826112.00]],\n",
       "      dtype=float32)"
      ]
     },
     "execution_count": 5,
     "metadata": {},
     "output_type": "execute_result"
    }
   ],
   "source": [
    "view = trading_day.msl.data[2999]\n",
    "view"
   ]
  },
  {
   "cell_type": "code",
   "execution_count": 7,
   "metadata": {},
   "outputs": [
    {
     "data": {
      "text/plain": [
       "array([[13.10, 13.35, 13.37, ..., 13.03, 88249912.00, 1166971520.00],\n",
       "       [26.65, 27.01, 27.02, ..., 26.41, 44678976.00, 1202706304.00],\n",
       "       [18.89, 19.05, 18.24, ..., 17.79, 765400.00, 14004081.00],\n",
       "       ...,\n",
       "       [64.08, 65.80, 59.59, ..., 56.50, 19847192.00, 1309335168.00],\n",
       "       [96.52, 100.00, 101.40, ..., 96.11, 10959172.00, 1179624320.00],\n",
       "       [80.00, 79.26, 69.55, ..., 66.97, 23729792.00, 1854826112.00]],\n",
       "      dtype=float32)"
      ]
     },
     "execution_count": 7,
     "metadata": {},
     "output_type": "execute_result"
    }
   ],
   "source": [
    "view = trading_day.msl.data[2999]\n",
    "view"
   ]
  },
  {
   "cell_type": "code",
   "execution_count": 11,
   "metadata": {},
   "outputs": [
    {
     "name": "stdout",
     "output_type": "stream",
     "text": [
      "文件 [ D:\\workspace\\python\\stock_reviews\\hdf5\\20190806.hdf5 ] 已经存在，将被删除 ... ... 已被删除\n",
      "行情 已经 写入文件： D:\\workspace\\python\\stock_reviews\\hdf5\\20190806.hdf5\n"
     ]
    }
   ],
   "source": [
    "trading_day.save()"
   ]
  },
  {
   "cell_type": "code",
   "execution_count": 8,
   "metadata": {},
   "outputs": [
    {
     "name": "stdout",
     "output_type": "stream",
     "text": [
      "message[check] used times: [0.07803720000000425, 0.08907609999999977, 0.06653850000000006, 0.06797480000000178, 0.07328079999999915, 0.073186800000002, 0.08138669999999593, 0.08148849999999896]\n",
      "calculating ma5vpm:\n",
      "\t data[20190805] was loaded from D:\\workspace\\python\\stock_reviews\\hdf5\\20190805.hdf5\n",
      "\t data[20190802] was loaded from D:\\workspace\\python\\stock_reviews\\hdf5\\20190802.hdf5\n",
      "\t data[20190801] was loaded from D:\\workspace\\python\\stock_reviews\\hdf5\\20190801.hdf5\n",
      "\t data[20190731] was loaded from D:\\workspace\\python\\stock_reviews\\hdf5\\20190731.hdf5\n",
      "\t data[20190730] was loaded from D:\\workspace\\python\\stock_reviews\\hdf5\\20190730.hdf5\n",
      "\t 23 000029 was from redis\n",
      "\t 239 000687 try online-loading from Sina ... done!\n",
      "\t 761 002306 try online-loading from Sina ... done!\n",
      "\t 765 002310 was from redis\n",
      "\t 938 002486 was from redis\n",
      "\t 1097 002647 try online-loading from Sina ... done!\n",
      "\t 1326 002891 try online-loading from Sina ... done!\n",
      "\t 1387 002966 try online-loading from Sina ... done! new listed stock with 2 candles!\n",
      "\t 2538 600483 try online-loading from Sina ... done!\n",
      "\t 2756 600732 try online-loading from Sina ... done!\n",
      "\t 3453 603662 try online-loading from Sina ... brand new listed stock?!\n",
      "\t finished!\n"
     ]
    }
   ],
   "source": [
    "trading_day.set_basics()"
   ]
  },
  {
   "cell_type": "code",
   "execution_count": null,
   "metadata": {},
   "outputs": [],
   "source": [
    "trading_day.basics.data"
   ]
  },
  {
   "cell_type": "code",
   "execution_count": null,
   "metadata": {},
   "outputs": [],
   "source": [
    "import time"
   ]
  },
  {
   "cell_type": "code",
   "execution_count": null,
   "metadata": {},
   "outputs": [],
   "source": [
    "dt = datetime(2019, 8, 2, 9,14, 50, 0)\n",
    "td_5s = timedelta(seconds=5)\n",
    "for idx in range(100):\n",
    "    dt = dt + td_5s\n",
    "    print(dt)\n",
    "    trading_day.beat(dt=dt)\n",
    "    time.sleep(5)"
   ]
  },
  {
   "cell_type": "code",
   "execution_count": null,
   "metadata": {},
   "outputs": [],
   "source": []
  },
  {
   "cell_type": "code",
   "execution_count": null,
   "metadata": {},
   "outputs": [],
   "source": []
  },
  {
   "cell_type": "code",
   "execution_count": null,
   "metadata": {},
   "outputs": [],
   "source": []
  },
  {
   "cell_type": "code",
   "execution_count": null,
   "metadata": {},
   "outputs": [],
   "source": [
    "trading_day.fsl.data[0, :, :]"
   ]
  },
  {
   "cell_type": "code",
   "execution_count": null,
   "metadata": {},
   "outputs": [],
   "source": []
  },
  {
   "cell_type": "code",
   "execution_count": null,
   "metadata": {},
   "outputs": [],
   "source": []
  },
  {
   "cell_type": "code",
   "execution_count": null,
   "metadata": {},
   "outputs": [],
   "source": []
  },
  {
   "cell_type": "code",
   "execution_count": null,
   "metadata": {},
   "outputs": [],
   "source": [
    "\n",
    "    \n",
    "trading_day.beat = types.MethodType(beat, trading_day)"
   ]
  },
  {
   "cell_type": "code",
   "execution_count": null,
   "metadata": {},
   "outputs": [],
   "source": []
  },
  {
   "cell_type": "code",
   "execution_count": null,
   "metadata": {},
   "outputs": [],
   "source": []
  },
  {
   "cell_type": "code",
   "execution_count": null,
   "metadata": {},
   "outputs": [],
   "source": [
    "trading_day.tdx.test_hosts()"
   ]
  },
  {
   "cell_type": "code",
   "execution_count": null,
   "metadata": {},
   "outputs": [],
   "source": []
  },
  {
   "cell_type": "code",
   "execution_count": null,
   "metadata": {},
   "outputs": [],
   "source": []
  },
  {
   "cell_type": "code",
   "execution_count": null,
   "metadata": {},
   "outputs": [],
   "source": []
  },
  {
   "cell_type": "code",
   "execution_count": null,
   "metadata": {},
   "outputs": [],
   "source": []
  },
  {
   "cell_type": "code",
   "execution_count": null,
   "metadata": {},
   "outputs": [],
   "source": []
  },
  {
   "cell_type": "code",
   "execution_count": null,
   "metadata": {},
   "outputs": [],
   "source": []
  },
  {
   "cell_type": "code",
   "execution_count": null,
   "metadata": {},
   "outputs": [],
   "source": []
  },
  {
   "cell_type": "code",
   "execution_count": null,
   "metadata": {},
   "outputs": [],
   "source": []
  },
  {
   "cell_type": "code",
   "execution_count": null,
   "metadata": {},
   "outputs": [],
   "source": []
  },
  {
   "cell_type": "code",
   "execution_count": null,
   "metadata": {},
   "outputs": [],
   "source": []
  },
  {
   "cell_type": "code",
   "execution_count": null,
   "metadata": {},
   "outputs": [],
   "source": []
  },
  {
   "cell_type": "code",
   "execution_count": null,
   "metadata": {},
   "outputs": [],
   "source": []
  },
  {
   "cell_type": "code",
   "execution_count": null,
   "metadata": {},
   "outputs": [],
   "source": []
  },
  {
   "cell_type": "code",
   "execution_count": null,
   "metadata": {},
   "outputs": [],
   "source": []
  },
  {
   "cell_type": "code",
   "execution_count": null,
   "metadata": {},
   "outputs": [],
   "source": []
  },
  {
   "cell_type": "code",
   "execution_count": null,
   "metadata": {},
   "outputs": [],
   "source": []
  },
  {
   "cell_type": "code",
   "execution_count": null,
   "metadata": {
    "scrolled": false
   },
   "outputs": [],
   "source": []
  },
  {
   "cell_type": "code",
   "execution_count": null,
   "metadata": {},
   "outputs": [],
   "source": []
  },
  {
   "cell_type": "code",
   "execution_count": null,
   "metadata": {},
   "outputs": [],
   "source": []
  },
  {
   "cell_type": "code",
   "execution_count": null,
   "metadata": {
    "scrolled": true
   },
   "outputs": [],
   "source": []
  },
  {
   "cell_type": "code",
   "execution_count": null,
   "metadata": {},
   "outputs": [],
   "source": []
  },
  {
   "cell_type": "code",
   "execution_count": null,
   "metadata": {},
   "outputs": [],
   "source": []
  },
  {
   "cell_type": "code",
   "execution_count": null,
   "metadata": {},
   "outputs": [],
   "source": []
  },
  {
   "cell_type": "code",
   "execution_count": null,
   "metadata": {},
   "outputs": [],
   "source": []
  },
  {
   "cell_type": "code",
   "execution_count": null,
   "metadata": {},
   "outputs": [],
   "source": []
  },
  {
   "cell_type": "code",
   "execution_count": null,
   "metadata": {},
   "outputs": [],
   "source": []
  },
  {
   "cell_type": "code",
   "execution_count": null,
   "metadata": {},
   "outputs": [],
   "source": []
  },
  {
   "cell_type": "code",
   "execution_count": null,
   "metadata": {},
   "outputs": [],
   "source": []
  },
  {
   "cell_type": "code",
   "execution_count": null,
   "metadata": {},
   "outputs": [],
   "source": []
  },
  {
   "cell_type": "code",
   "execution_count": null,
   "metadata": {
    "scrolled": true
   },
   "outputs": [],
   "source": []
  },
  {
   "cell_type": "code",
   "execution_count": null,
   "metadata": {},
   "outputs": [],
   "source": []
  },
  {
   "cell_type": "code",
   "execution_count": null,
   "metadata": {},
   "outputs": [],
   "source": []
  },
  {
   "cell_type": "code",
   "execution_count": null,
   "metadata": {},
   "outputs": [],
   "source": []
  },
  {
   "cell_type": "code",
   "execution_count": null,
   "metadata": {},
   "outputs": [],
   "source": []
  },
  {
   "cell_type": "code",
   "execution_count": null,
   "metadata": {},
   "outputs": [],
   "source": []
  },
  {
   "cell_type": "code",
   "execution_count": null,
   "metadata": {},
   "outputs": [],
   "source": []
  },
  {
   "cell_type": "code",
   "execution_count": null,
   "metadata": {},
   "outputs": [],
   "source": []
  },
  {
   "cell_type": "code",
   "execution_count": null,
   "metadata": {},
   "outputs": [],
   "source": []
  },
  {
   "cell_type": "code",
   "execution_count": null,
   "metadata": {},
   "outputs": [],
   "source": []
  },
  {
   "cell_type": "code",
   "execution_count": null,
   "metadata": {},
   "outputs": [],
   "source": []
  },
  {
   "cell_type": "code",
   "execution_count": null,
   "metadata": {
    "scrolled": false
   },
   "outputs": [],
   "source": []
  },
  {
   "cell_type": "code",
   "execution_count": null,
   "metadata": {},
   "outputs": [],
   "source": []
  },
  {
   "cell_type": "code",
   "execution_count": null,
   "metadata": {},
   "outputs": [],
   "source": []
  },
  {
   "cell_type": "code",
   "execution_count": null,
   "metadata": {},
   "outputs": [],
   "source": []
  },
  {
   "cell_type": "code",
   "execution_count": null,
   "metadata": {
    "scrolled": true
   },
   "outputs": [],
   "source": []
  },
  {
   "cell_type": "code",
   "execution_count": null,
   "metadata": {},
   "outputs": [],
   "source": []
  },
  {
   "cell_type": "code",
   "execution_count": null,
   "metadata": {},
   "outputs": [],
   "source": []
  },
  {
   "cell_type": "code",
   "execution_count": null,
   "metadata": {},
   "outputs": [],
   "source": []
  },
  {
   "cell_type": "code",
   "execution_count": null,
   "metadata": {},
   "outputs": [],
   "source": []
  },
  {
   "cell_type": "code",
   "execution_count": null,
   "metadata": {},
   "outputs": [],
   "source": []
  },
  {
   "cell_type": "code",
   "execution_count": null,
   "metadata": {},
   "outputs": [],
   "source": []
  },
  {
   "cell_type": "code",
   "execution_count": null,
   "metadata": {},
   "outputs": [],
   "source": []
  },
  {
   "cell_type": "code",
   "execution_count": null,
   "metadata": {},
   "outputs": [],
   "source": []
  },
  {
   "cell_type": "code",
   "execution_count": null,
   "metadata": {},
   "outputs": [],
   "source": []
  },
  {
   "cell_type": "code",
   "execution_count": null,
   "metadata": {},
   "outputs": [],
   "source": []
  },
  {
   "cell_type": "code",
   "execution_count": null,
   "metadata": {},
   "outputs": [],
   "source": []
  },
  {
   "cell_type": "code",
   "execution_count": null,
   "metadata": {},
   "outputs": [],
   "source": []
  },
  {
   "cell_type": "code",
   "execution_count": null,
   "metadata": {},
   "outputs": [],
   "source": []
  },
  {
   "cell_type": "code",
   "execution_count": null,
   "metadata": {},
   "outputs": [],
   "source": []
  },
  {
   "cell_type": "code",
   "execution_count": null,
   "metadata": {},
   "outputs": [],
   "source": []
  },
  {
   "cell_type": "code",
   "execution_count": null,
   "metadata": {},
   "outputs": [],
   "source": []
  },
  {
   "cell_type": "code",
   "execution_count": null,
   "metadata": {},
   "outputs": [],
   "source": []
  },
  {
   "cell_type": "code",
   "execution_count": null,
   "metadata": {},
   "outputs": [],
   "source": []
  },
  {
   "cell_type": "code",
   "execution_count": null,
   "metadata": {},
   "outputs": [],
   "source": []
  },
  {
   "cell_type": "code",
   "execution_count": null,
   "metadata": {
    "scrolled": false
   },
   "outputs": [],
   "source": []
  },
  {
   "cell_type": "code",
   "execution_count": null,
   "metadata": {},
   "outputs": [],
   "source": []
  },
  {
   "cell_type": "code",
   "execution_count": null,
   "metadata": {},
   "outputs": [],
   "source": []
  },
  {
   "cell_type": "code",
   "execution_count": null,
   "metadata": {},
   "outputs": [],
   "source": []
  },
  {
   "cell_type": "code",
   "execution_count": null,
   "metadata": {},
   "outputs": [],
   "source": []
  },
  {
   "cell_type": "code",
   "execution_count": null,
   "metadata": {},
   "outputs": [],
   "source": []
  },
  {
   "cell_type": "code",
   "execution_count": null,
   "metadata": {},
   "outputs": [],
   "source": []
  },
  {
   "cell_type": "code",
   "execution_count": null,
   "metadata": {},
   "outputs": [],
   "source": []
  },
  {
   "cell_type": "code",
   "execution_count": null,
   "metadata": {},
   "outputs": [],
   "source": []
  },
  {
   "cell_type": "code",
   "execution_count": null,
   "metadata": {},
   "outputs": [],
   "source": []
  },
  {
   "cell_type": "code",
   "execution_count": null,
   "metadata": {},
   "outputs": [],
   "source": []
  },
  {
   "cell_type": "code",
   "execution_count": null,
   "metadata": {},
   "outputs": [],
   "source": []
  },
  {
   "cell_type": "code",
   "execution_count": null,
   "metadata": {},
   "outputs": [],
   "source": []
  },
  {
   "cell_type": "code",
   "execution_count": null,
   "metadata": {},
   "outputs": [],
   "source": []
  },
  {
   "cell_type": "code",
   "execution_count": null,
   "metadata": {},
   "outputs": [],
   "source": []
  },
  {
   "cell_type": "code",
   "execution_count": null,
   "metadata": {},
   "outputs": [],
   "source": []
  },
  {
   "cell_type": "code",
   "execution_count": null,
   "metadata": {},
   "outputs": [],
   "source": []
  },
  {
   "cell_type": "code",
   "execution_count": null,
   "metadata": {},
   "outputs": [],
   "source": []
  },
  {
   "cell_type": "code",
   "execution_count": null,
   "metadata": {},
   "outputs": [],
   "source": []
  },
  {
   "cell_type": "code",
   "execution_count": null,
   "metadata": {},
   "outputs": [],
   "source": []
  },
  {
   "cell_type": "code",
   "execution_count": null,
   "metadata": {},
   "outputs": [],
   "source": []
  },
  {
   "cell_type": "code",
   "execution_count": null,
   "metadata": {},
   "outputs": [],
   "source": []
  },
  {
   "cell_type": "code",
   "execution_count": null,
   "metadata": {},
   "outputs": [],
   "source": []
  },
  {
   "cell_type": "code",
   "execution_count": null,
   "metadata": {},
   "outputs": [],
   "source": []
  },
  {
   "cell_type": "code",
   "execution_count": null,
   "metadata": {},
   "outputs": [],
   "source": []
  },
  {
   "cell_type": "code",
   "execution_count": null,
   "metadata": {},
   "outputs": [],
   "source": []
  },
  {
   "cell_type": "code",
   "execution_count": null,
   "metadata": {},
   "outputs": [],
   "source": []
  },
  {
   "cell_type": "code",
   "execution_count": null,
   "metadata": {},
   "outputs": [],
   "source": []
  },
  {
   "cell_type": "code",
   "execution_count": null,
   "metadata": {},
   "outputs": [],
   "source": []
  },
  {
   "cell_type": "code",
   "execution_count": null,
   "metadata": {},
   "outputs": [],
   "source": []
  },
  {
   "cell_type": "code",
   "execution_count": null,
   "metadata": {},
   "outputs": [],
   "source": []
  },
  {
   "cell_type": "code",
   "execution_count": null,
   "metadata": {},
   "outputs": [],
   "source": []
  },
  {
   "cell_type": "code",
   "execution_count": null,
   "metadata": {},
   "outputs": [],
   "source": []
  }
 ],
 "metadata": {
  "kernelspec": {
   "display_name": "Python 3",
   "language": "python",
   "name": "python3"
  },
  "language_info": {
   "codemirror_mode": {
    "name": "ipython",
    "version": 3
   },
   "file_extension": ".py",
   "mimetype": "text/x-python",
   "name": "python",
   "nbconvert_exporter": "python",
   "pygments_lexer": "ipython3",
   "version": "3.7.2"
  }
 },
 "nbformat": 4,
 "nbformat_minor": 2
}
