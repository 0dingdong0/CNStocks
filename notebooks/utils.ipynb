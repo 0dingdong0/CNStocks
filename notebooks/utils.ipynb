{
 "cells": [
  {
   "cell_type": "code",
   "execution_count": 2,
   "metadata": {},
   "outputs": [],
   "source": [
    "from datetime import timedelta\n",
    "from datetime import datetime\n",
    "import tushare as TS"
   ]
  },
  {
   "cell_type": "code",
   "execution_count": 75,
   "metadata": {},
   "outputs": [],
   "source": [
    "class Utils:\n",
    "    \n",
    "    ts = TS.pro_api('aecca28adc0d5a7764b748ccd48bef923d81314ae47b4d44d51fce67')\n",
    "\n",
    "    @staticmethod\n",
    "    def get_check_points(interval):\n",
    "        td = timedelta(seconds=interval)\n",
    "\n",
    "        check_points = []\n",
    "\n",
    "        trading_times = [\n",
    "            ['0915', '0925'],\n",
    "            ['0930', '1130'],\n",
    "            ['1300', '1500'],\n",
    "        ]\n",
    "\n",
    "        now = datetime.now()\n",
    "        for time_range in trading_times:\n",
    "            start = now.replace(hour=int(time_range[0][:2]), minute=int(time_range[0][2:]), second=0, microsecond=0)\n",
    "            end = now.replace(hour=int(time_range[1][:2]), minute=int(time_range[1][2:]), second=0, microsecond=0)\n",
    "\n",
    "            t = start\n",
    "            while t<end:\n",
    "                check_points.append(t.strftime('%H:%M:%S'))\n",
    "                t += td\n",
    "                \n",
    "        return check_points\n",
    "    \n",
    "    @staticmethod\n",
    "    def last_5_trading_days(dt=None):\n",
    "        if dt is None:\n",
    "            dt = datetime.now()    \n",
    "        ed = dt.strftime('%Y%m%d')\n",
    "        td = timedelta(days=30)\n",
    "        sd = (dt-td).strftime('%Y%m%d')\n",
    "        df = Utils.ts.trade_cal(exchange='', start_date=sd, end_date=ed)\n",
    "        \n",
    "        pdays = []\n",
    "        idx = df.index[df['cal_date'] == ed][0]\n",
    "        while True:\n",
    "            idx -= 1\n",
    "            if df.iloc[idx, 2] == 1:\n",
    "                pdstr = df.iloc[idx, 1]\n",
    "                pdays.insert(0, datetime.strptime(pdstr, '%Y%m%d'))\n",
    "                \n",
    "                if len(pdays) == 5:\n",
    "                    break\n",
    "            else:\n",
    "                continue\n",
    "        return pdays\n",
    "    \n",
    "    @staticmethod\n",
    "    def previous_trading_day(dt):\n",
    "        ed = dt.strftime('%Y%m%d')\n",
    "        td = timedelta(days=30)\n",
    "        sd = (dt-td).strftime('%Y%m%d')\n",
    "        df = Utils.ts.trade_cal(exchange='', start_date=sd, end_date=ed)\n",
    "        \n",
    "        pdstr = ''\n",
    "        idx = df.index[df['cal_date'] == ed][0]\n",
    "        while True:\n",
    "            idx -= 1\n",
    "            if df.iloc[idx, 2] == 1:\n",
    "                pdstr = df.iloc[idx, 1]\n",
    "                break\n",
    "            else:\n",
    "                continue\n",
    "        return datetime.strptime(pdstr, '%Y%m%d')\n",
    "    \n",
    "    @staticmethod\n",
    "    def next_trading_day(dt):\n",
    "        sd = dt.strftime('%Y%m%d')\n",
    "        td = timedelta(days=30)\n",
    "        ed = (dt+td).strftime('%Y%m%d')\n",
    "        df = Utils.ts.trade_cal(exchange='', start_date=sd, end_date=ed)\n",
    "        \n",
    "        ndstr = ''\n",
    "        idx = df.index[df['cal_date'] == sd][0]\n",
    "        while True:\n",
    "            idx += 1\n",
    "            if df.iloc[idx, 2] == 1:\n",
    "                ndstr = df.iloc[idx, 1]\n",
    "                break\n",
    "            else:\n",
    "                continue\n",
    "        return datetime.strptime(ndstr, '%Y%m%d')\n",
    "    \n",
    "    @staticmethod\n",
    "    def is_trading_day(dt):\n",
    "        sd = dt.strftime('%Y%m%d')\n",
    "        ed = sdt\n",
    "        df = Utils.ts.trade_cal(exchange='', start_date=sd, end_date=ed)\n",
    "        if df.loc[df['cal_date']==sd].iloc[0,2] == 0:\n",
    "            return False\n",
    "        else:\n",
    "            return True"
   ]
  },
  {
   "cell_type": "code",
   "execution_count": null,
   "metadata": {},
   "outputs": [],
   "source": []
  },
  {
   "cell_type": "code",
   "execution_count": 4,
   "metadata": {},
   "outputs": [],
   "source": []
  },
  {
   "cell_type": "code",
   "execution_count": 58,
   "metadata": {},
   "outputs": [
    {
     "name": "stdout",
     "output_type": "stream",
     "text": [
      "20190628 20190728\n"
     ]
    }
   ],
   "source": [
    "dt = datetime.now()\n",
    "td = timedelta(days=30)\n",
    "\n",
    "dt = dt-td\n",
    "\n",
    "sd = dt.strftime('%Y%m%d')\n",
    "ed = (dt+td).strftime('%Y%m%d')\n",
    "\n",
    "print(sd, ed)"
   ]
  },
  {
   "cell_type": "code",
   "execution_count": 59,
   "metadata": {},
   "outputs": [],
   "source": [
    "df = Utils.ts.trade_cal(exchange='', start_date=sd, end_date=ed)"
   ]
  },
  {
   "cell_type": "code",
   "execution_count": 61,
   "metadata": {},
   "outputs": [
    {
     "data": {
      "text/plain": [
       "datetime.datetime(2019, 7, 1, 0, 0)"
      ]
     },
     "execution_count": 61,
     "metadata": {},
     "output_type": "execute_result"
    }
   ],
   "source": [
    "idx = df.index[df['cal_date'] == sd][0]\n",
    "\n",
    "ndstr = ''\n",
    "while True:\n",
    "    idx += 1\n",
    "    if df.iloc[idx, 2] == 1:\n",
    "        ndstr = df.iloc[idx, 1]\n",
    "        break\n",
    "    else:\n",
    "        continue\n",
    "datetime.strptime(ndstr, '%Y%m%d')"
   ]
  },
  {
   "cell_type": "code",
   "execution_count": 32,
   "metadata": {},
   "outputs": [
    {
     "data": {
      "text/plain": [
       "datetime.datetime(2019, 7, 26, 7, 12, 51, 141671)"
      ]
     },
     "execution_count": 32,
     "metadata": {},
     "output_type": "execute_result"
    }
   ],
   "source": []
  },
  {
   "cell_type": "code",
   "execution_count": 70,
   "metadata": {},
   "outputs": [
    {
     "name": "stdout",
     "output_type": "stream",
     "text": [
      "2019-07-26 08:02:06.909699\n"
     ]
    },
    {
     "data": {
      "text/plain": [
       "datetime.datetime(2019, 7, 25, 0, 0)"
      ]
     },
     "execution_count": 70,
     "metadata": {},
     "output_type": "execute_result"
    }
   ],
   "source": [
    "dt = datetime.now()\n",
    "td = timedelta(days=2)\n",
    "qdt = dt-td\n",
    "print(qdt)\n",
    "Utils.previous_trading_day(qdt)"
   ]
  },
  {
   "cell_type": "code",
   "execution_count": 78,
   "metadata": {},
   "outputs": [
    {
     "data": {
      "text/plain": [
       "[datetime.datetime(2019, 7, 22, 0, 0),\n",
       " datetime.datetime(2019, 7, 23, 0, 0),\n",
       " datetime.datetime(2019, 7, 24, 0, 0),\n",
       " datetime.datetime(2019, 7, 25, 0, 0),\n",
       " datetime.datetime(2019, 7, 26, 0, 0)]"
      ]
     },
     "execution_count": 78,
     "metadata": {},
     "output_type": "execute_result"
    }
   ],
   "source": [
    "dt = datetime.now()\n",
    "td = timedelta(days=1)\n",
    "\n",
    "dt = dt+td\n",
    "Utils.last_5_trading_days()"
   ]
  },
  {
   "cell_type": "code",
   "execution_count": null,
   "metadata": {},
   "outputs": [],
   "source": []
  }
 ],
 "metadata": {
  "kernelspec": {
   "display_name": "Python 3",
   "language": "python",
   "name": "python3"
  },
  "language_info": {
   "codemirror_mode": {
    "name": "ipython",
    "version": 3
   },
   "file_extension": ".py",
   "mimetype": "text/x-python",
   "name": "python",
   "nbconvert_exporter": "python",
   "pygments_lexer": "ipython3",
   "version": "3.7.2"
  }
 },
 "nbformat": 4,
 "nbformat_minor": 2
}
