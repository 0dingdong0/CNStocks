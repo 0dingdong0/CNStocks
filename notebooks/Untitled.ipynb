{
 "cells": [
  {
   "cell_type": "code",
   "execution_count": 1,
   "metadata": {},
   "outputs": [
    {
     "name": "stdout",
     "output_type": "stream",
     "text": [
      "D:\\workspace\\python\\CNStocks\n"
     ]
    }
   ],
   "source": [
    "# set current working directory\n",
    "import os\n",
    "if os.name == 'posix':\n",
    "    %cd ~/workspace/python/CNStocks\n",
    "else:\n",
    "    %cd D:\\workspace\\python\\CNStocks\n",
    "        \n",
    "import h5py\n",
    "\n",
    "from types import SimpleNamespace\n",
    "%load_ext Cython"
   ]
  },
  {
   "cell_type": "code",
   "execution_count": null,
   "metadata": {},
   "outputs": [],
   "source": [
    "np.set_printoptions(formatter={'float': lambda x: \"{0:0.2f}\".format(x)})"
   ]
  },
  {
   "cell_type": "code",
   "execution_count": null,
   "metadata": {},
   "outputs": [],
   "source": [
    "msl = SimpleNamespace()\n",
    "fsl = SimpleNamespace()\n",
    "stat = SimpleNamespace()\n",
    "basics = SimpleNamespace()\n",
    "file = os.path.join(os.getcwd(), 'hdf5', '20190808.hdf5')\n",
    "\n",
    "with h5py.File(file, \"a\") as f:\n",
    "    codes = np.copy(np.char.decode(f[u'codes'], 'utf-8'))\n",
    "#     setup_arrays(codes)\n",
    "\n",
    "    names = np.copy(np.char.decode(f[u'names'], 'utf-8'))\n",
    "    msl.data = np.copy(f[u'msl'][:,:,:])\n",
    "    fsl.data = np.copy(f[u'fsl'][:,:,:])\n",
    "    stat.data = np.copy(f[u'stat'][:,:,:])\n",
    "    basics.data = np.copy(f[u'basics'][:,:])"
   ]
  },
  {
   "cell_type": "code",
   "execution_count": null,
   "metadata": {},
   "outputs": [],
   "source": [
    "index_ms = 2999\n",
    "index_fs = 249"
   ]
  },
  {
   "cell_type": "code",
   "execution_count": null,
   "metadata": {},
   "outputs": [],
   "source": [
    "ms = msl.data[index_ms, :, :]"
   ]
  },
  {
   "cell_type": "code",
   "execution_count": null,
   "metadata": {},
   "outputs": [],
   "source": [
    "fs = fsl.data[index_fs, :, :]"
   ]
  },
  {
   "cell_type": "code",
   "execution_count": null,
   "metadata": {},
   "outputs": [],
   "source": [
    "b = basics.data[:, :]"
   ]
  },
  {
   "cell_type": "code",
   "execution_count": null,
   "metadata": {},
   "outputs": [],
   "source": [
    "st = stat.data[index_fs, :, :]"
   ]
  },
  {
   "cell_type": "code",
   "execution_count": null,
   "metadata": {},
   "outputs": [],
   "source": [
    "index_fs5p = min(index_fs - 5, 9)\n",
    "fs5p = fsl.data[index_fs5p, :, :]\n",
    "fs5p[:,0] = fs[:,0]*0.95"
   ]
  },
  {
   "cell_type": "code",
   "execution_count": null,
   "metadata": {},
   "outputs": [],
   "source": [
    "%%cython\n",
    "import numpy as np\n",
    "cimport numpy as np\n",
    "cimport cython\n",
    "from libc.math cimport isnan\n",
    "\n",
    "ctypedef np.float32_t DTYPE_t\n",
    "\n",
    "@cython.boundscheck(False)\n",
    "@cython.cdivision\n",
    "@cython.wraparound(False)\n",
    "cpdef compute_stats(DTYPE_t[:,:] ms, DTYPE_t[:,:] fs, DTYPE_t[:,:] b, DTYPE_t[:,:] st, DTYPE_t[:,:] fs5p, Py_ssize_t index_fs):\n",
    "    \n",
    "    # ms\n",
    "    cdef Py_ssize_t idx_open = 0\n",
    "    cdef Py_ssize_t idx_now = 2\n",
    "    cdef Py_ssize_t idx_close = 1\n",
    "    cdef Py_ssize_t idx_turnover = 5\n",
    "    cdef Py_ssize_t idx_volume = 6\n",
    "    \n",
    "    cdef Py_ssize_t idx_zf = 0\n",
    "    cdef Py_ssize_t idx_jj = 1\n",
    "    cdef Py_ssize_t idx_lb = 2\n",
    "    cdef Py_ssize_t idx_zs = 3\n",
    "    cdef Py_ssize_t idx_zt = 4\n",
    "    cdef Py_ssize_t idx_fsto = 5\n",
    "    \n",
    "    cdef Py_ssize_t rows = ms.shape[0]\n",
    "    cdef Py_ssize_t cols = ms.shape[1]\n",
    "    \n",
    "    cdef Py_ssize_t interval = min(index_fs - 9, 1)\n",
    "    \n",
    "    cdef list indices_zt = []\n",
    "    for i in range(rows):\n",
    "        if ms[i,idx_open]:\n",
    "            st[i,idx_zf] = 100*(ms[i,idx_now]/ms[i,idx_close]-1)\n",
    "\n",
    "        if ms[i,idx_turnover]:\n",
    "            st[i,idx_jj] = ms[i,idx_volume]/ms[i,idx_turnover]\n",
    "            st[i,idx_zs] = 100*(ms[i,idx_now]/fs5p[i, 0]-1)\n",
    "            if ms[i,idx_now] - b[i,0] > -0.0001:\n",
    "                indices_zt.append(i)\n",
    "\n",
    "        if b[i,2] and ms[i,idx_turnover]:\n",
    "            st[i,idx_lb] = ms[i,idx_turnover]/interval/b[i,2]\n",
    "\n",
    "    return None"
   ]
  },
  {
   "cell_type": "code",
   "execution_count": null,
   "metadata": {},
   "outputs": [],
   "source": []
  },
  {
   "cell_type": "code",
   "execution_count": null,
   "metadata": {},
   "outputs": [],
   "source": [
    "%%timeit -n1000\n",
    "compute(ms, fs, b, st, fs5p, index_fs)"
   ]
  },
  {
   "cell_type": "code",
   "execution_count": null,
   "metadata": {},
   "outputs": [],
   "source": [
    "import numpy as np"
   ]
  },
  {
   "cell_type": "code",
   "execution_count": null,
   "metadata": {},
   "outputs": [],
   "source": [
    "st.fill(np.nan)\n",
    "st"
   ]
  },
  {
   "cell_type": "code",
   "execution_count": null,
   "metadata": {},
   "outputs": [],
   "source": [
    "st"
   ]
  },
  {
   "cell_type": "code",
   "execution_count": null,
   "metadata": {},
   "outputs": [],
   "source": [
    "ms"
   ]
  },
  {
   "cell_type": "code",
   "execution_count": null,
   "metadata": {
    "scrolled": false
   },
   "outputs": [],
   "source": [
    "names"
   ]
  },
  {
   "cell_type": "code",
   "execution_count": null,
   "metadata": {},
   "outputs": [],
   "source": []
  },
  {
   "cell_type": "code",
   "execution_count": null,
   "metadata": {},
   "outputs": [],
   "source": []
  },
  {
   "cell_type": "code",
   "execution_count": null,
   "metadata": {},
   "outputs": [],
   "source": []
  },
  {
   "cell_type": "code",
   "execution_count": null,
   "metadata": {},
   "outputs": [],
   "source": []
  },
  {
   "cell_type": "code",
   "execution_count": null,
   "metadata": {},
   "outputs": [],
   "source": [
    "np.get_include()"
   ]
  },
  {
   "cell_type": "code",
   "execution_count": null,
   "metadata": {},
   "outputs": [],
   "source": []
  },
  {
   "cell_type": "code",
   "execution_count": null,
   "metadata": {},
   "outputs": [],
   "source": []
  },
  {
   "cell_type": "code",
   "execution_count": null,
   "metadata": {},
   "outputs": [],
   "source": []
  },
  {
   "cell_type": "code",
   "execution_count": null,
   "metadata": {},
   "outputs": [],
   "source": []
  },
  {
   "cell_type": "code",
   "execution_count": 3,
   "metadata": {},
   "outputs": [],
   "source": [
    "from libs.cython.compute import compute_stats"
   ]
  },
  {
   "cell_type": "code",
   "execution_count": null,
   "metadata": {},
   "outputs": [],
   "source": []
  },
  {
   "cell_type": "code",
   "execution_count": null,
   "metadata": {},
   "outputs": [],
   "source": []
  },
  {
   "cell_type": "code",
   "execution_count": null,
   "metadata": {},
   "outputs": [],
   "source": []
  },
  {
   "cell_type": "code",
   "execution_count": null,
   "metadata": {},
   "outputs": [],
   "source": []
  },
  {
   "cell_type": "code",
   "execution_count": null,
   "metadata": {},
   "outputs": [],
   "source": []
  },
  {
   "cell_type": "code",
   "execution_count": null,
   "metadata": {},
   "outputs": [],
   "source": []
  },
  {
   "cell_type": "code",
   "execution_count": null,
   "metadata": {},
   "outputs": [],
   "source": []
  },
  {
   "cell_type": "code",
   "execution_count": null,
   "metadata": {},
   "outputs": [],
   "source": []
  },
  {
   "cell_type": "code",
   "execution_count": null,
   "metadata": {},
   "outputs": [],
   "source": []
  },
  {
   "cell_type": "code",
   "execution_count": null,
   "metadata": {},
   "outputs": [],
   "source": []
  },
  {
   "cell_type": "code",
   "execution_count": null,
   "metadata": {},
   "outputs": [],
   "source": []
  },
  {
   "cell_type": "code",
   "execution_count": null,
   "metadata": {},
   "outputs": [],
   "source": []
  },
  {
   "cell_type": "code",
   "execution_count": null,
   "metadata": {},
   "outputs": [],
   "source": []
  },
  {
   "cell_type": "code",
   "execution_count": null,
   "metadata": {},
   "outputs": [],
   "source": []
  },
  {
   "cell_type": "code",
   "execution_count": null,
   "metadata": {},
   "outputs": [],
   "source": []
  },
  {
   "cell_type": "code",
   "execution_count": null,
   "metadata": {},
   "outputs": [],
   "source": []
  },
  {
   "cell_type": "code",
   "execution_count": null,
   "metadata": {},
   "outputs": [],
   "source": []
  },
  {
   "cell_type": "code",
   "execution_count": null,
   "metadata": {},
   "outputs": [],
   "source": []
  },
  {
   "cell_type": "code",
   "execution_count": null,
   "metadata": {},
   "outputs": [],
   "source": []
  }
 ],
 "metadata": {
  "kernelspec": {
   "display_name": "Python 3",
   "language": "python",
   "name": "python3"
  },
  "language_info": {
   "codemirror_mode": {
    "name": "ipython",
    "version": 3
   },
   "file_extension": ".py",
   "mimetype": "text/x-python",
   "name": "python",
   "nbconvert_exporter": "python",
   "pygments_lexer": "ipython3",
   "version": "3.7.4"
  }
 },
 "nbformat": 4,
 "nbformat_minor": 2
}
