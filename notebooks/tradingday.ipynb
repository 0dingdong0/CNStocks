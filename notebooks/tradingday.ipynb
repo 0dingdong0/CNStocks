{
 "cells": [
  {
   "cell_type": "code",
   "execution_count": 1,
   "metadata": {},
   "outputs": [
    {
     "name": "stdout",
     "output_type": "stream",
     "text": [
      "D:\\workspace\\python\\CNStocks\n"
     ]
    },
    {
     "name": "stderr",
     "output_type": "stream",
     "text": [
      "d:\\workspace\\python\\venv_3.7.4\\lib\\site-packages\\tushare\\util\\upass.py:28: FutureWarning: \n",
      ".ix is deprecated. Please use\n",
      ".loc for label based indexing or\n",
      ".iloc for positional indexing\n",
      "\n",
      "See the documentation here:\n",
      "http://pandas.pydata.org/pandas-docs/stable/user_guide/indexing.html#ix-indexer-is-deprecated\n",
      "  return str(df.ix[0]['token'])\n"
     ]
    }
   ],
   "source": [
    "# set current working directory\n",
    "import os\n",
    "if os.name == 'posix':\n",
    "    %cd ~/workspace/python/CNStocks\n",
    "else:\n",
    "    %cd D:\\workspace\\python\\CNStocks\n",
    "    \n",
    "\n",
    "from libs.utils import Utils\n",
    "from libs.tdx import TDX\n",
    "from libs.array import D2Array, D3Array\n",
    "from libs.sina import Sina\n",
    "from libs.hq import HQ\n",
    "\n",
    "from multiprocessing.sharedctypes import RawArray\n",
    "from multiprocessing import Process, Pipe\n",
    "\n",
    "from datetime import datetime\n",
    "from datetime import timedelta\n",
    "from pyquery import PyQuery as pq\n",
    "\n",
    "import sys\n",
    "import tushare\n",
    "import asyncio\n",
    "import types\n",
    "import redis\n",
    "import h5py\n",
    "import math\n",
    "import ctypes\n",
    "import numpy as np\n",
    "\n",
    "import easyquotation\n",
    "import time\n",
    "from libs.tradingday import TradingDay"
   ]
  },
  {
   "cell_type": "code",
   "execution_count": null,
   "metadata": {},
   "outputs": [],
   "source": []
  },
  {
   "cell_type": "code",
   "execution_count": 5,
   "metadata": {},
   "outputs": [
    {
     "name": "stdout",
     "output_type": "stream",
     "text": [
      "['202.108.253.130', '7709'], used 49.0 ms\n",
      "['202.108.253.131', '7709'], used 55.0 ms\n",
      "['202.108.253.139', '80'], used 53.0 ms\n",
      "['120.55.172.97', '7709'], used 54.0 ms\n",
      "['123.138.29.107', '7709'], used 61.56 ms\n",
      "['101.227.73.20', '7709'], used 53.0 ms\n",
      "['59.173.18.140', '7709'], used 62.41 ms\n",
      "['117.34.114.16', '7709'], used 62.0 ms\n",
      "['117.34.114.27', '7709'], used 69.0 ms\n",
      "['117.34.114.20', '7709'], used 65.0 ms\n",
      "['117.34.114.14', '7709'], used 72.01 ms\n",
      "['58.23.131.163', '7709'], used 66.99 ms\n",
      "['117.34.114.15', '7709'], used 65.01 ms\n",
      "['117.34.114.31', '7709'], used 70.0 ms\n",
      "['117.34.114.18', '7709'], used 74.06 ms\n",
      "['117.34.114.13', '7709'], used 73.0 ms\n",
      "['117.34.114.17', '7709'], used 70.0 ms\n",
      "['117.34.114.30', '7709'], used 73.07 ms\n",
      "['113.105.92.104', '7709'], used 79.0 ms\n",
      "['113.105.92.102', '7709'], used 85.0 ms\n",
      "['113.105.92.103', '7709'], used 79.99 ms\n",
      "['113.105.92.99', '7709'], used 81.99 ms\n",
      "['113.105.92.101', '7709'], used 83.0 ms\n",
      "['113.105.92.100', '7709'], used 73.0 ms\n",
      "['14.215.128.18', '7709'], used 81.99 ms\n",
      "['60.12.136.250', '7709'], used 56.0 ms\n",
      "['220.178.55.71', '7709'], used 62.0 ms\n",
      "['119.147.212.81', '7709'], used 75.99 ms\n",
      "['211.139.150.61', '7709'], used 85.99 ms\n",
      "['59.36.5.11', '7709'], used 73.99 ms\n",
      "selected: ('202.108.253.130', 7709) 49.0 ms\n",
      "file[D:\\workspace\\python\\CNStocks\\hdf5\\20190814.hdf5] does not exists!\n",
      "using asyncio in a new thread\n",
      "行情 已经 写入文件： D:\\workspace\\python\\CNStocks\\hdf5\\20190814.hdf5\n",
      "hq process [None] was started with scope: (0, 457) and sub_group_count: 2\n",
      "hq process [None] was started with scope: (457, 914) and sub_group_count: 2\n",
      "hq process [None] was started with scope: (914, 1371) and sub_group_count: 2\n",
      "hq process [None] was started with scope: (1371, 1828) and sub_group_count: 2\n",
      "hq process [None] was started with scope: (1828, 2285) and sub_group_count: 2\n",
      "hq process [None] was started with scope: (2285, 2742) and sub_group_count: 2\n",
      "hq process [None] was started with scope: (2742, 3199) and sub_group_count: 2\n",
      "hq process [None] was started with scope: (3199, 3655) and sub_group_count: 2\n",
      "message[prepare] used times: [0.03347129999999865, 0.037016300000000335, 0.03454790000000063, 0.03322719999999979, 0.03274569999999999, 0.03443559999999968, 0.03352569999999977, 0.02049270000000014]\n",
      "hq process [None] was started with scope: (0, 3655) and sub_group_count: 1\n",
      "message[prepare] used times: [0.018663500000000166]\n",
      "message[check] used times: [0.09148910000000043, 0.09327810000000092, 0.09364549999999916, 0.09161090000000005, 0.10344399999999965, 0.0994691999999997, 0.09657430000000033, 0.1038682999999998]\n",
      "calculating ma5vpm:\n",
      "\t data[20190813] was loaded from D:\\workspace\\python\\CNStocks\\hdf5\\20190813.hdf5\n",
      "\t data[20190812] was loaded from D:\\workspace\\python\\CNStocks\\hdf5\\20190812.hdf5\n",
      "\t data[20190809] was loaded from D:\\workspace\\python\\CNStocks\\hdf5\\20190809.hdf5\n",
      "\t data[20190808] was loaded from D:\\workspace\\python\\CNStocks\\hdf5\\20190808.hdf5\n",
      "\t data[20190807] was loaded from D:\\workspace\\python\\CNStocks\\hdf5\\20190807.hdf5\n",
      "\t 23 000029 was from redis\n",
      "\t 2266 600145 was from redis\n",
      "\t 2270 600150 was from redis\n",
      "\t 2597 600556 try online-loading from Sina ... using asyncio in a new thread\n",
      "done!\n",
      "\t 2678 600647 try online-loading from Sina ... using asyncio in a new thread\n",
      "done!\n",
      "\t 2710 600685 was from redis\n",
      "\t 2866 600856 try online-loading from Sina ... using asyncio in a new thread\n",
      "done!\n",
      "\t finished!\n"
     ]
    }
   ],
   "source": [
    "root = 'C:\\\\tdx\\\\tdx_7.46'\n",
    "trading_day = TradingDay(tdx_root=root)"
   ]
  },
  {
   "cell_type": "code",
   "execution_count": null,
   "metadata": {},
   "outputs": [],
   "source": []
  },
  {
   "cell_type": "code",
   "execution_count": 3,
   "metadata": {},
   "outputs": [
    {
     "ename": "NameError",
     "evalue": "name 'r' is not defined",
     "output_type": "error",
     "traceback": [
      "\u001b[1;31m---------------------------------------------------------------------------\u001b[0m",
      "\u001b[1;31mNameError\u001b[0m                                 Traceback (most recent call last)",
      "\u001b[1;32m<ipython-input-3-79f8d0d85863>\u001b[0m in \u001b[0;36m<module>\u001b[1;34m\u001b[0m\n\u001b[1;32m----> 1\u001b[1;33m \u001b[0mr\u001b[0m\u001b[1;33m.\u001b[0m\u001b[0mdelete\u001b[0m\u001b[1;33m(\u001b[0m\u001b[1;34m'stock_codes_update_time'\u001b[0m\u001b[1;33m)\u001b[0m\u001b[1;33m\u001b[0m\u001b[1;33m\u001b[0m\u001b[0m\n\u001b[0m",
      "\u001b[1;31mNameError\u001b[0m: name 'r' is not defined"
     ]
    }
   ],
   "source": [
    "r.delete('stock_codes_update_time')"
   ]
  },
  {
   "cell_type": "code",
   "execution_count": null,
   "metadata": {},
   "outputs": [],
   "source": [
    "# quit all sub processes\n",
    "trading_day.stop_hq_processes()\n",
    "trading_day.stop_assist_process()"
   ]
  },
  {
   "cell_type": "code",
   "execution_count": null,
   "metadata": {},
   "outputs": [],
   "source": [
    "len(trading_day.codes)"
   ]
  },
  {
   "cell_type": "code",
   "execution_count": null,
   "metadata": {},
   "outputs": [],
   "source": []
  },
  {
   "cell_type": "code",
   "execution_count": null,
   "metadata": {},
   "outputs": [],
   "source": []
  },
  {
   "cell_type": "code",
   "execution_count": null,
   "metadata": {},
   "outputs": [],
   "source": [
    "trading_day.date"
   ]
  },
  {
   "cell_type": "code",
   "execution_count": null,
   "metadata": {},
   "outputs": [],
   "source": [
    "trading_day.is_today_trading_day"
   ]
  },
  {
   "cell_type": "code",
   "execution_count": null,
   "metadata": {},
   "outputs": [],
   "source": [
    "len(trading_day.codes)"
   ]
  },
  {
   "cell_type": "code",
   "execution_count": null,
   "metadata": {},
   "outputs": [],
   "source": []
  },
  {
   "cell_type": "code",
   "execution_count": null,
   "metadata": {},
   "outputs": [],
   "source": [
    "trading_day.update_stock_codes(force=True)"
   ]
  },
  {
   "cell_type": "code",
   "execution_count": 6,
   "metadata": {},
   "outputs": [],
   "source": [
    "dt = datetime(2019,8,10,15,30,0,0)"
   ]
  },
  {
   "cell_type": "code",
   "execution_count": 7,
   "metadata": {},
   "outputs": [
    {
     "name": "stdout",
     "output_type": "stream",
     "text": [
      "message[check] used times: [0.084563100000004, 0.06600780000000128, 0.08266809999999936, 0.07494950000000244, 0.08448939999999894, 0.0763935999999994, 0.06925070000000133, 0.08028480000000116]\n"
     ]
    },
    {
     "data": {
      "text/plain": [
       "{'msl': 2999, 'fsl': 249}"
      ]
     },
     "execution_count": 7,
     "metadata": {},
     "output_type": "execute_result"
    }
   ],
   "source": [
    "msg = {'type':'function', 'function': 'check', 'args':[], 'kwargs':{'dt':dt}}\n",
    "out = trading_day.send_processes_message(trading_day.hq_pipes, msg)\n",
    "out[0]"
   ]
  },
  {
   "cell_type": "code",
   "execution_count": null,
   "metadata": {},
   "outputs": [],
   "source": [
    "msg = {'type':'function', 'function': 'incremental_save', 'args':[out[0]], 'kwargs':{}}\n",
    "trading_day.send_processes_message([trading_day.assist_pipe], msg, blocked=False)"
   ]
  },
  {
   "cell_type": "code",
   "execution_count": null,
   "metadata": {},
   "outputs": [],
   "source": [
    "msg = {'type':'function', 'function': 'close_hdf5', 'args':[], 'kwargs':{}}\n",
    "%time trading_day.send_processes_message([trading_day.assist_pipe], msg)"
   ]
  },
  {
   "cell_type": "code",
   "execution_count": null,
   "metadata": {},
   "outputs": [],
   "source": [
    "trading_day.beat()"
   ]
  },
  {
   "cell_type": "code",
   "execution_count": 6,
   "metadata": {
    "scrolled": false
   },
   "outputs": [
    {
     "data": {
      "text/plain": [
       "array([[14.61, 14.52, 15.12, ..., 14.60, 273342560.00, 4084497920.00],\n",
       "       [27.31, 27.29, 27.77, ..., 27.28, 26253228.00, 726706176.00],\n",
       "       [18.15, 18.14, 18.27, ..., 18.12, 312305.00, 5683728.50],\n",
       "       ...,\n",
       "       [125.00, 20.43, 95.31, ..., 90.37, 32769932.00, 3251036160.00],\n",
       "       [87.50, 87.50, 84.10, ..., 81.38, 4870353.00, 410144576.00],\n",
       "       [63.45, 63.70, 61.15, ..., 59.20, 9496604.00, 582757312.00]],\n",
       "      dtype=float32)"
      ]
     },
     "execution_count": 6,
     "metadata": {},
     "output_type": "execute_result"
    }
   ],
   "source": [
    "view = trading_day.msl.data[-1]\n",
    "view"
   ]
  },
  {
   "cell_type": "code",
   "execution_count": null,
   "metadata": {},
   "outputs": [],
   "source": [
    "view.fill(np.nan)"
   ]
  },
  {
   "cell_type": "code",
   "execution_count": null,
   "metadata": {},
   "outputs": [],
   "source": [
    "view = trading_day.fsl.data[249]\n",
    "view"
   ]
  },
  {
   "cell_type": "code",
   "execution_count": null,
   "metadata": {},
   "outputs": [],
   "source": [
    "view = trading_day.stat.data[249]\n",
    "view"
   ]
  },
  {
   "cell_type": "code",
   "execution_count": 7,
   "metadata": {},
   "outputs": [
    {
     "name": "stdout",
     "output_type": "stream",
     "text": [
      "文件 [ D:\\workspace\\python\\CNStocks\\hdf5\\20190812.hdf5 ] 已经存在，将被删除 ... ... 已被删除\n",
      "行情 已经 写入文件： D:\\workspace\\python\\CNStocks\\hdf5\\20190812.hdf5\n"
     ]
    }
   ],
   "source": [
    "trading_day.save()"
   ]
  },
  {
   "cell_type": "code",
   "execution_count": null,
   "metadata": {},
   "outputs": [],
   "source": [
    "trading_day.set_basics()"
   ]
  },
  {
   "cell_type": "code",
   "execution_count": null,
   "metadata": {},
   "outputs": [],
   "source": [
    "trading_day.basics.data"
   ]
  },
  {
   "cell_type": "code",
   "execution_count": null,
   "metadata": {},
   "outputs": [],
   "source": [
    "import time"
   ]
  },
  {
   "cell_type": "code",
   "execution_count": null,
   "metadata": {},
   "outputs": [],
   "source": [
    "dt = datetime(2019, 8, 2, 9,14, 50, 0)\n",
    "td_5s = timedelta(seconds=5)\n",
    "for idx in range(100):\n",
    "    dt = dt + td_5s\n",
    "    print(dt)\n",
    "    trading_day.beat(dt=dt)\n",
    "    time.sleep(5)"
   ]
  },
  {
   "cell_type": "code",
   "execution_count": null,
   "metadata": {},
   "outputs": [],
   "source": []
  },
  {
   "cell_type": "code",
   "execution_count": null,
   "metadata": {},
   "outputs": [],
   "source": []
  },
  {
   "cell_type": "code",
   "execution_count": null,
   "metadata": {},
   "outputs": [],
   "source": []
  },
  {
   "cell_type": "code",
   "execution_count": null,
   "metadata": {},
   "outputs": [],
   "source": [
    "trading_day.fsl.data[0, :, :]"
   ]
  },
  {
   "cell_type": "code",
   "execution_count": null,
   "metadata": {},
   "outputs": [],
   "source": [
    "trading_day.is_today_trading_day"
   ]
  },
  {
   "cell_type": "code",
   "execution_count": null,
   "metadata": {},
   "outputs": [],
   "source": []
  },
  {
   "cell_type": "code",
   "execution_count": null,
   "metadata": {},
   "outputs": [],
   "source": []
  },
  {
   "cell_type": "code",
   "execution_count": null,
   "metadata": {},
   "outputs": [],
   "source": [
    "\n",
    "    \n",
    "trading_day.beat = types.MethodType(beat, trading_day)"
   ]
  },
  {
   "cell_type": "code",
   "execution_count": null,
   "metadata": {},
   "outputs": [],
   "source": []
  },
  {
   "cell_type": "code",
   "execution_count": null,
   "metadata": {},
   "outputs": [],
   "source": []
  },
  {
   "cell_type": "code",
   "execution_count": null,
   "metadata": {},
   "outputs": [],
   "source": [
    "trading_day.tdx.test_hosts()"
   ]
  },
  {
   "cell_type": "code",
   "execution_count": null,
   "metadata": {},
   "outputs": [],
   "source": []
  },
  {
   "cell_type": "code",
   "execution_count": null,
   "metadata": {},
   "outputs": [],
   "source": []
  },
  {
   "cell_type": "code",
   "execution_count": null,
   "metadata": {},
   "outputs": [],
   "source": []
  },
  {
   "cell_type": "code",
   "execution_count": null,
   "metadata": {},
   "outputs": [],
   "source": []
  },
  {
   "cell_type": "code",
   "execution_count": null,
   "metadata": {},
   "outputs": [],
   "source": [
    "dt = datetime(2019, 8, 9, 9, 30, 0, 10)"
   ]
  },
  {
   "cell_type": "code",
   "execution_count": null,
   "metadata": {},
   "outputs": [],
   "source": [
    "trading_day.fsl.get_index(dt)"
   ]
  },
  {
   "cell_type": "code",
   "execution_count": null,
   "metadata": {},
   "outputs": [],
   "source": []
  },
  {
   "cell_type": "code",
   "execution_count": null,
   "metadata": {},
   "outputs": [],
   "source": []
  },
  {
   "cell_type": "code",
   "execution_count": null,
   "metadata": {},
   "outputs": [],
   "source": [
    "if index_fs >= 10:\n",
    "    interval = index_fs -1"
   ]
  },
  {
   "cell_type": "code",
   "execution_count": null,
   "metadata": {},
   "outputs": [],
   "source": [
    "interval = index_fs - 9\n",
    "if interval < 0:\n",
    "    interval = 1\n",
    "    "
   ]
  },
  {
   "cell_type": "code",
   "execution_count": null,
   "metadata": {},
   "outputs": [],
   "source": []
  },
  {
   "cell_type": "code",
   "execution_count": null,
   "metadata": {},
   "outputs": [],
   "source": []
  },
  {
   "cell_type": "code",
   "execution_count": null,
   "metadata": {},
   "outputs": [],
   "source": []
  },
  {
   "cell_type": "code",
   "execution_count": null,
   "metadata": {},
   "outputs": [],
   "source": []
  },
  {
   "cell_type": "code",
   "execution_count": null,
   "metadata": {},
   "outputs": [],
   "source": []
  },
  {
   "cell_type": "code",
   "execution_count": null,
   "metadata": {},
   "outputs": [],
   "source": []
  },
  {
   "cell_type": "code",
   "execution_count": null,
   "metadata": {
    "scrolled": false
   },
   "outputs": [],
   "source": []
  },
  {
   "cell_type": "code",
   "execution_count": null,
   "metadata": {},
   "outputs": [],
   "source": []
  },
  {
   "cell_type": "code",
   "execution_count": null,
   "metadata": {},
   "outputs": [],
   "source": []
  },
  {
   "cell_type": "code",
   "execution_count": null,
   "metadata": {
    "scrolled": true
   },
   "outputs": [],
   "source": []
  },
  {
   "cell_type": "code",
   "execution_count": null,
   "metadata": {},
   "outputs": [],
   "source": []
  },
  {
   "cell_type": "code",
   "execution_count": null,
   "metadata": {},
   "outputs": [],
   "source": []
  },
  {
   "cell_type": "code",
   "execution_count": null,
   "metadata": {},
   "outputs": [],
   "source": []
  },
  {
   "cell_type": "code",
   "execution_count": null,
   "metadata": {},
   "outputs": [],
   "source": []
  },
  {
   "cell_type": "code",
   "execution_count": null,
   "metadata": {},
   "outputs": [],
   "source": []
  },
  {
   "cell_type": "code",
   "execution_count": null,
   "metadata": {},
   "outputs": [],
   "source": []
  },
  {
   "cell_type": "code",
   "execution_count": null,
   "metadata": {},
   "outputs": [],
   "source": []
  },
  {
   "cell_type": "code",
   "execution_count": null,
   "metadata": {},
   "outputs": [],
   "source": [
    "dtime = datetime.now().replace(hour=15, minute=25, second=0, microsecond=0)"
   ]
  },
  {
   "cell_type": "code",
   "execution_count": null,
   "metadata": {},
   "outputs": [],
   "source": [
    "%%timeit\n",
    "\n",
    "\n"
   ]
  },
  {
   "cell_type": "code",
   "execution_count": null,
   "metadata": {
    "scrolled": true
   },
   "outputs": [],
   "source": []
  },
  {
   "cell_type": "code",
   "execution_count": null,
   "metadata": {},
   "outputs": [],
   "source": []
  },
  {
   "cell_type": "code",
   "execution_count": null,
   "metadata": {},
   "outputs": [],
   "source": []
  },
  {
   "cell_type": "code",
   "execution_count": null,
   "metadata": {},
   "outputs": [],
   "source": []
  },
  {
   "cell_type": "code",
   "execution_count": null,
   "metadata": {},
   "outputs": [],
   "source": []
  },
  {
   "cell_type": "code",
   "execution_count": null,
   "metadata": {},
   "outputs": [],
   "source": []
  },
  {
   "cell_type": "code",
   "execution_count": null,
   "metadata": {},
   "outputs": [],
   "source": []
  },
  {
   "cell_type": "code",
   "execution_count": null,
   "metadata": {},
   "outputs": [],
   "source": []
  },
  {
   "cell_type": "code",
   "execution_count": null,
   "metadata": {},
   "outputs": [],
   "source": []
  },
  {
   "cell_type": "code",
   "execution_count": null,
   "metadata": {},
   "outputs": [],
   "source": []
  },
  {
   "cell_type": "code",
   "execution_count": null,
   "metadata": {},
   "outputs": [],
   "source": []
  },
  {
   "cell_type": "code",
   "execution_count": null,
   "metadata": {
    "scrolled": false
   },
   "outputs": [],
   "source": []
  },
  {
   "cell_type": "code",
   "execution_count": null,
   "metadata": {},
   "outputs": [],
   "source": []
  },
  {
   "cell_type": "code",
   "execution_count": null,
   "metadata": {},
   "outputs": [],
   "source": []
  },
  {
   "cell_type": "code",
   "execution_count": null,
   "metadata": {},
   "outputs": [],
   "source": []
  },
  {
   "cell_type": "code",
   "execution_count": null,
   "metadata": {
    "scrolled": true
   },
   "outputs": [],
   "source": []
  },
  {
   "cell_type": "code",
   "execution_count": null,
   "metadata": {},
   "outputs": [],
   "source": []
  },
  {
   "cell_type": "code",
   "execution_count": null,
   "metadata": {},
   "outputs": [],
   "source": []
  },
  {
   "cell_type": "code",
   "execution_count": null,
   "metadata": {},
   "outputs": [],
   "source": []
  },
  {
   "cell_type": "code",
   "execution_count": null,
   "metadata": {},
   "outputs": [],
   "source": []
  },
  {
   "cell_type": "code",
   "execution_count": null,
   "metadata": {},
   "outputs": [],
   "source": []
  },
  {
   "cell_type": "code",
   "execution_count": null,
   "metadata": {},
   "outputs": [],
   "source": []
  },
  {
   "cell_type": "code",
   "execution_count": null,
   "metadata": {},
   "outputs": [],
   "source": []
  },
  {
   "cell_type": "code",
   "execution_count": null,
   "metadata": {},
   "outputs": [],
   "source": []
  },
  {
   "cell_type": "code",
   "execution_count": null,
   "metadata": {},
   "outputs": [],
   "source": []
  },
  {
   "cell_type": "code",
   "execution_count": null,
   "metadata": {},
   "outputs": [],
   "source": []
  },
  {
   "cell_type": "code",
   "execution_count": null,
   "metadata": {},
   "outputs": [],
   "source": []
  },
  {
   "cell_type": "code",
   "execution_count": null,
   "metadata": {},
   "outputs": [],
   "source": []
  },
  {
   "cell_type": "code",
   "execution_count": null,
   "metadata": {},
   "outputs": [],
   "source": []
  },
  {
   "cell_type": "code",
   "execution_count": null,
   "metadata": {},
   "outputs": [],
   "source": []
  },
  {
   "cell_type": "code",
   "execution_count": null,
   "metadata": {},
   "outputs": [],
   "source": []
  },
  {
   "cell_type": "code",
   "execution_count": null,
   "metadata": {},
   "outputs": [],
   "source": []
  },
  {
   "cell_type": "code",
   "execution_count": null,
   "metadata": {},
   "outputs": [],
   "source": []
  },
  {
   "cell_type": "code",
   "execution_count": null,
   "metadata": {},
   "outputs": [],
   "source": []
  },
  {
   "cell_type": "code",
   "execution_count": null,
   "metadata": {},
   "outputs": [],
   "source": []
  },
  {
   "cell_type": "code",
   "execution_count": null,
   "metadata": {
    "scrolled": false
   },
   "outputs": [],
   "source": []
  },
  {
   "cell_type": "code",
   "execution_count": null,
   "metadata": {},
   "outputs": [],
   "source": []
  },
  {
   "cell_type": "code",
   "execution_count": null,
   "metadata": {},
   "outputs": [],
   "source": []
  },
  {
   "cell_type": "code",
   "execution_count": null,
   "metadata": {},
   "outputs": [],
   "source": []
  },
  {
   "cell_type": "code",
   "execution_count": null,
   "metadata": {},
   "outputs": [],
   "source": []
  },
  {
   "cell_type": "code",
   "execution_count": null,
   "metadata": {},
   "outputs": [],
   "source": []
  },
  {
   "cell_type": "code",
   "execution_count": null,
   "metadata": {},
   "outputs": [],
   "source": []
  },
  {
   "cell_type": "code",
   "execution_count": null,
   "metadata": {},
   "outputs": [],
   "source": []
  },
  {
   "cell_type": "code",
   "execution_count": null,
   "metadata": {},
   "outputs": [],
   "source": []
  },
  {
   "cell_type": "code",
   "execution_count": null,
   "metadata": {},
   "outputs": [],
   "source": []
  },
  {
   "cell_type": "code",
   "execution_count": null,
   "metadata": {},
   "outputs": [],
   "source": []
  },
  {
   "cell_type": "code",
   "execution_count": null,
   "metadata": {},
   "outputs": [],
   "source": []
  },
  {
   "cell_type": "code",
   "execution_count": null,
   "metadata": {},
   "outputs": [],
   "source": []
  },
  {
   "cell_type": "code",
   "execution_count": null,
   "metadata": {},
   "outputs": [],
   "source": []
  },
  {
   "cell_type": "code",
   "execution_count": null,
   "metadata": {},
   "outputs": [],
   "source": []
  },
  {
   "cell_type": "code",
   "execution_count": null,
   "metadata": {},
   "outputs": [],
   "source": []
  },
  {
   "cell_type": "code",
   "execution_count": null,
   "metadata": {},
   "outputs": [],
   "source": []
  },
  {
   "cell_type": "code",
   "execution_count": null,
   "metadata": {},
   "outputs": [],
   "source": []
  },
  {
   "cell_type": "code",
   "execution_count": null,
   "metadata": {},
   "outputs": [],
   "source": []
  },
  {
   "cell_type": "code",
   "execution_count": null,
   "metadata": {},
   "outputs": [],
   "source": []
  },
  {
   "cell_type": "code",
   "execution_count": null,
   "metadata": {},
   "outputs": [],
   "source": []
  },
  {
   "cell_type": "code",
   "execution_count": null,
   "metadata": {},
   "outputs": [],
   "source": []
  },
  {
   "cell_type": "code",
   "execution_count": null,
   "metadata": {},
   "outputs": [],
   "source": []
  },
  {
   "cell_type": "code",
   "execution_count": null,
   "metadata": {},
   "outputs": [],
   "source": []
  },
  {
   "cell_type": "code",
   "execution_count": null,
   "metadata": {},
   "outputs": [],
   "source": []
  },
  {
   "cell_type": "code",
   "execution_count": null,
   "metadata": {},
   "outputs": [],
   "source": []
  },
  {
   "cell_type": "code",
   "execution_count": null,
   "metadata": {},
   "outputs": [],
   "source": []
  },
  {
   "cell_type": "code",
   "execution_count": null,
   "metadata": {},
   "outputs": [],
   "source": []
  },
  {
   "cell_type": "code",
   "execution_count": null,
   "metadata": {},
   "outputs": [],
   "source": []
  },
  {
   "cell_type": "code",
   "execution_count": null,
   "metadata": {},
   "outputs": [],
   "source": []
  },
  {
   "cell_type": "code",
   "execution_count": null,
   "metadata": {},
   "outputs": [],
   "source": []
  },
  {
   "cell_type": "code",
   "execution_count": null,
   "metadata": {},
   "outputs": [],
   "source": []
  },
  {
   "cell_type": "code",
   "execution_count": null,
   "metadata": {},
   "outputs": [],
   "source": []
  }
 ],
 "metadata": {
  "kernelspec": {
   "display_name": "Python 3",
   "language": "python",
   "name": "python3"
  },
  "language_info": {
   "codemirror_mode": {
    "name": "ipython",
    "version": 3
   },
   "file_extension": ".py",
   "mimetype": "text/x-python",
   "name": "python",
   "nbconvert_exporter": "python",
   "pygments_lexer": "ipython3",
   "version": "3.7.4"
  }
 },
 "nbformat": 4,
 "nbformat_minor": 2
}
